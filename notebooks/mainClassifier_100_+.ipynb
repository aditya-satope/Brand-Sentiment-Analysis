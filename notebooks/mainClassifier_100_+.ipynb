{
  "nbformat": 4,
  "nbformat_minor": 0,
  "metadata": {
    "colab": {
      "name": "mainClassifier-100%+.ipynb",
      "provenance": [],
      "toc_visible": true
    },
    "kernelspec": {
      "name": "python3",
      "display_name": "Python 3"
    },
    "accelerator": "GPU",
    "widgets": {
      "application/vnd.jupyter.widget-state+json": {
        "80c67cd4467048abbbda1921dec03737": {
          "model_module": "@jupyter-widgets/controls",
          "model_name": "HBoxModel",
          "state": {
            "_view_name": "HBoxView",
            "_dom_classes": [],
            "_model_name": "HBoxModel",
            "_view_module": "@jupyter-widgets/controls",
            "_model_module_version": "1.5.0",
            "_view_count": null,
            "_view_module_version": "1.5.0",
            "box_style": "",
            "layout": "IPY_MODEL_23293a34efdc41fd8142142fb08c0ab6",
            "_model_module": "@jupyter-widgets/controls",
            "children": [
              "IPY_MODEL_af67f52a6361479b87450536521a727a",
              "IPY_MODEL_09a6bfa7e1db4985bd10e27190f3d88e"
            ]
          }
        },
        "23293a34efdc41fd8142142fb08c0ab6": {
          "model_module": "@jupyter-widgets/base",
          "model_name": "LayoutModel",
          "state": {
            "_view_name": "LayoutView",
            "grid_template_rows": null,
            "right": null,
            "justify_content": null,
            "_view_module": "@jupyter-widgets/base",
            "overflow": null,
            "_model_module_version": "1.2.0",
            "_view_count": null,
            "flex_flow": null,
            "width": null,
            "min_width": null,
            "border": null,
            "align_items": null,
            "bottom": null,
            "_model_module": "@jupyter-widgets/base",
            "top": null,
            "grid_column": null,
            "overflow_y": null,
            "overflow_x": null,
            "grid_auto_flow": null,
            "grid_area": null,
            "grid_template_columns": null,
            "flex": null,
            "_model_name": "LayoutModel",
            "justify_items": null,
            "grid_row": null,
            "max_height": null,
            "align_content": null,
            "visibility": null,
            "align_self": null,
            "height": null,
            "min_height": null,
            "padding": null,
            "grid_auto_rows": null,
            "grid_gap": null,
            "max_width": null,
            "order": null,
            "_view_module_version": "1.2.0",
            "grid_template_areas": null,
            "object_position": null,
            "object_fit": null,
            "grid_auto_columns": null,
            "margin": null,
            "display": null,
            "left": null
          }
        },
        "af67f52a6361479b87450536521a727a": {
          "model_module": "@jupyter-widgets/controls",
          "model_name": "FloatProgressModel",
          "state": {
            "_view_name": "ProgressView",
            "style": "IPY_MODEL_c5acad33e8794e3ba8d439ef7be077d3",
            "_dom_classes": [],
            "description": "Downloading: 100%",
            "_model_name": "FloatProgressModel",
            "bar_style": "success",
            "max": 871891,
            "_view_module": "@jupyter-widgets/controls",
            "_model_module_version": "1.5.0",
            "value": 871891,
            "_view_count": null,
            "_view_module_version": "1.5.0",
            "orientation": "horizontal",
            "min": 0,
            "description_tooltip": null,
            "_model_module": "@jupyter-widgets/controls",
            "layout": "IPY_MODEL_88fe7741c1b44342bce7879b3f4efb5c"
          }
        },
        "09a6bfa7e1db4985bd10e27190f3d88e": {
          "model_module": "@jupyter-widgets/controls",
          "model_name": "HTMLModel",
          "state": {
            "_view_name": "HTMLView",
            "style": "IPY_MODEL_574e538b3c16462ca9fc86d42d28e7ec",
            "_dom_classes": [],
            "description": "",
            "_model_name": "HTMLModel",
            "placeholder": "​",
            "_view_module": "@jupyter-widgets/controls",
            "_model_module_version": "1.5.0",
            "value": " 872k/872k [00:00&lt;00:00, 1.53MB/s]",
            "_view_count": null,
            "_view_module_version": "1.5.0",
            "description_tooltip": null,
            "_model_module": "@jupyter-widgets/controls",
            "layout": "IPY_MODEL_5154dfc37d754b3dadcdfa7a45fbdf1d"
          }
        },
        "c5acad33e8794e3ba8d439ef7be077d3": {
          "model_module": "@jupyter-widgets/controls",
          "model_name": "ProgressStyleModel",
          "state": {
            "_view_name": "StyleView",
            "_model_name": "ProgressStyleModel",
            "description_width": "initial",
            "_view_module": "@jupyter-widgets/base",
            "_model_module_version": "1.5.0",
            "_view_count": null,
            "_view_module_version": "1.2.0",
            "bar_color": null,
            "_model_module": "@jupyter-widgets/controls"
          }
        },
        "88fe7741c1b44342bce7879b3f4efb5c": {
          "model_module": "@jupyter-widgets/base",
          "model_name": "LayoutModel",
          "state": {
            "_view_name": "LayoutView",
            "grid_template_rows": null,
            "right": null,
            "justify_content": null,
            "_view_module": "@jupyter-widgets/base",
            "overflow": null,
            "_model_module_version": "1.2.0",
            "_view_count": null,
            "flex_flow": null,
            "width": null,
            "min_width": null,
            "border": null,
            "align_items": null,
            "bottom": null,
            "_model_module": "@jupyter-widgets/base",
            "top": null,
            "grid_column": null,
            "overflow_y": null,
            "overflow_x": null,
            "grid_auto_flow": null,
            "grid_area": null,
            "grid_template_columns": null,
            "flex": null,
            "_model_name": "LayoutModel",
            "justify_items": null,
            "grid_row": null,
            "max_height": null,
            "align_content": null,
            "visibility": null,
            "align_self": null,
            "height": null,
            "min_height": null,
            "padding": null,
            "grid_auto_rows": null,
            "grid_gap": null,
            "max_width": null,
            "order": null,
            "_view_module_version": "1.2.0",
            "grid_template_areas": null,
            "object_position": null,
            "object_fit": null,
            "grid_auto_columns": null,
            "margin": null,
            "display": null,
            "left": null
          }
        },
        "574e538b3c16462ca9fc86d42d28e7ec": {
          "model_module": "@jupyter-widgets/controls",
          "model_name": "DescriptionStyleModel",
          "state": {
            "_view_name": "StyleView",
            "_model_name": "DescriptionStyleModel",
            "description_width": "",
            "_view_module": "@jupyter-widgets/base",
            "_model_module_version": "1.5.0",
            "_view_count": null,
            "_view_module_version": "1.2.0",
            "_model_module": "@jupyter-widgets/controls"
          }
        },
        "5154dfc37d754b3dadcdfa7a45fbdf1d": {
          "model_module": "@jupyter-widgets/base",
          "model_name": "LayoutModel",
          "state": {
            "_view_name": "LayoutView",
            "grid_template_rows": null,
            "right": null,
            "justify_content": null,
            "_view_module": "@jupyter-widgets/base",
            "overflow": null,
            "_model_module_version": "1.2.0",
            "_view_count": null,
            "flex_flow": null,
            "width": null,
            "min_width": null,
            "border": null,
            "align_items": null,
            "bottom": null,
            "_model_module": "@jupyter-widgets/base",
            "top": null,
            "grid_column": null,
            "overflow_y": null,
            "overflow_x": null,
            "grid_auto_flow": null,
            "grid_area": null,
            "grid_template_columns": null,
            "flex": null,
            "_model_name": "LayoutModel",
            "justify_items": null,
            "grid_row": null,
            "max_height": null,
            "align_content": null,
            "visibility": null,
            "align_self": null,
            "height": null,
            "min_height": null,
            "padding": null,
            "grid_auto_rows": null,
            "grid_gap": null,
            "max_width": null,
            "order": null,
            "_view_module_version": "1.2.0",
            "grid_template_areas": null,
            "object_position": null,
            "object_fit": null,
            "grid_auto_columns": null,
            "margin": null,
            "display": null,
            "left": null
          }
        },
        "296902fc986a4ca88c1a326b52bb2fcc": {
          "model_module": "@jupyter-widgets/controls",
          "model_name": "HBoxModel",
          "state": {
            "_view_name": "HBoxView",
            "_dom_classes": [],
            "_model_name": "HBoxModel",
            "_view_module": "@jupyter-widgets/controls",
            "_model_module_version": "1.5.0",
            "_view_count": null,
            "_view_module_version": "1.5.0",
            "box_style": "",
            "layout": "IPY_MODEL_1a5bf854a83540a2846e53f2bea2ae6a",
            "_model_module": "@jupyter-widgets/controls",
            "children": [
              "IPY_MODEL_e2a6ec78f5414ae6ae19ccb1d57ef424",
              "IPY_MODEL_935316ad4c2f48c2958f21505eca59ac"
            ]
          }
        },
        "1a5bf854a83540a2846e53f2bea2ae6a": {
          "model_module": "@jupyter-widgets/base",
          "model_name": "LayoutModel",
          "state": {
            "_view_name": "LayoutView",
            "grid_template_rows": null,
            "right": null,
            "justify_content": null,
            "_view_module": "@jupyter-widgets/base",
            "overflow": null,
            "_model_module_version": "1.2.0",
            "_view_count": null,
            "flex_flow": null,
            "width": null,
            "min_width": null,
            "border": null,
            "align_items": null,
            "bottom": null,
            "_model_module": "@jupyter-widgets/base",
            "top": null,
            "grid_column": null,
            "overflow_y": null,
            "overflow_x": null,
            "grid_auto_flow": null,
            "grid_area": null,
            "grid_template_columns": null,
            "flex": null,
            "_model_name": "LayoutModel",
            "justify_items": null,
            "grid_row": null,
            "max_height": null,
            "align_content": null,
            "visibility": null,
            "align_self": null,
            "height": null,
            "min_height": null,
            "padding": null,
            "grid_auto_rows": null,
            "grid_gap": null,
            "max_width": null,
            "order": null,
            "_view_module_version": "1.2.0",
            "grid_template_areas": null,
            "object_position": null,
            "object_fit": null,
            "grid_auto_columns": null,
            "margin": null,
            "display": null,
            "left": null
          }
        },
        "e2a6ec78f5414ae6ae19ccb1d57ef424": {
          "model_module": "@jupyter-widgets/controls",
          "model_name": "FloatProgressModel",
          "state": {
            "_view_name": "ProgressView",
            "style": "IPY_MODEL_e5c3f887896a4ef1aaf3eada6ae0470a",
            "_dom_classes": [],
            "description": "Downloading: 100%",
            "_model_name": "FloatProgressModel",
            "bar_style": "success",
            "max": 625,
            "_view_module": "@jupyter-widgets/controls",
            "_model_module_version": "1.5.0",
            "value": 625,
            "_view_count": null,
            "_view_module_version": "1.5.0",
            "orientation": "horizontal",
            "min": 0,
            "description_tooltip": null,
            "_model_module": "@jupyter-widgets/controls",
            "layout": "IPY_MODEL_a6a5325dd6544a478046bd7a02fbe106"
          }
        },
        "935316ad4c2f48c2958f21505eca59ac": {
          "model_module": "@jupyter-widgets/controls",
          "model_name": "HTMLModel",
          "state": {
            "_view_name": "HTMLView",
            "style": "IPY_MODEL_51c67c7c59af4cc586f1bb8d679e5865",
            "_dom_classes": [],
            "description": "",
            "_model_name": "HTMLModel",
            "placeholder": "​",
            "_view_module": "@jupyter-widgets/controls",
            "_model_module_version": "1.5.0",
            "value": " 625/625 [00:00&lt;00:00, 863B/s]",
            "_view_count": null,
            "_view_module_version": "1.5.0",
            "description_tooltip": null,
            "_model_module": "@jupyter-widgets/controls",
            "layout": "IPY_MODEL_b1a50edb0e234f6d81c381e9402793bc"
          }
        },
        "e5c3f887896a4ef1aaf3eada6ae0470a": {
          "model_module": "@jupyter-widgets/controls",
          "model_name": "ProgressStyleModel",
          "state": {
            "_view_name": "StyleView",
            "_model_name": "ProgressStyleModel",
            "description_width": "initial",
            "_view_module": "@jupyter-widgets/base",
            "_model_module_version": "1.5.0",
            "_view_count": null,
            "_view_module_version": "1.2.0",
            "bar_color": null,
            "_model_module": "@jupyter-widgets/controls"
          }
        },
        "a6a5325dd6544a478046bd7a02fbe106": {
          "model_module": "@jupyter-widgets/base",
          "model_name": "LayoutModel",
          "state": {
            "_view_name": "LayoutView",
            "grid_template_rows": null,
            "right": null,
            "justify_content": null,
            "_view_module": "@jupyter-widgets/base",
            "overflow": null,
            "_model_module_version": "1.2.0",
            "_view_count": null,
            "flex_flow": null,
            "width": null,
            "min_width": null,
            "border": null,
            "align_items": null,
            "bottom": null,
            "_model_module": "@jupyter-widgets/base",
            "top": null,
            "grid_column": null,
            "overflow_y": null,
            "overflow_x": null,
            "grid_auto_flow": null,
            "grid_area": null,
            "grid_template_columns": null,
            "flex": null,
            "_model_name": "LayoutModel",
            "justify_items": null,
            "grid_row": null,
            "max_height": null,
            "align_content": null,
            "visibility": null,
            "align_self": null,
            "height": null,
            "min_height": null,
            "padding": null,
            "grid_auto_rows": null,
            "grid_gap": null,
            "max_width": null,
            "order": null,
            "_view_module_version": "1.2.0",
            "grid_template_areas": null,
            "object_position": null,
            "object_fit": null,
            "grid_auto_columns": null,
            "margin": null,
            "display": null,
            "left": null
          }
        },
        "51c67c7c59af4cc586f1bb8d679e5865": {
          "model_module": "@jupyter-widgets/controls",
          "model_name": "DescriptionStyleModel",
          "state": {
            "_view_name": "StyleView",
            "_model_name": "DescriptionStyleModel",
            "description_width": "",
            "_view_module": "@jupyter-widgets/base",
            "_model_module_version": "1.5.0",
            "_view_count": null,
            "_view_module_version": "1.2.0",
            "_model_module": "@jupyter-widgets/controls"
          }
        },
        "b1a50edb0e234f6d81c381e9402793bc": {
          "model_module": "@jupyter-widgets/base",
          "model_name": "LayoutModel",
          "state": {
            "_view_name": "LayoutView",
            "grid_template_rows": null,
            "right": null,
            "justify_content": null,
            "_view_module": "@jupyter-widgets/base",
            "overflow": null,
            "_model_module_version": "1.2.0",
            "_view_count": null,
            "flex_flow": null,
            "width": null,
            "min_width": null,
            "border": null,
            "align_items": null,
            "bottom": null,
            "_model_module": "@jupyter-widgets/base",
            "top": null,
            "grid_column": null,
            "overflow_y": null,
            "overflow_x": null,
            "grid_auto_flow": null,
            "grid_area": null,
            "grid_template_columns": null,
            "flex": null,
            "_model_name": "LayoutModel",
            "justify_items": null,
            "grid_row": null,
            "max_height": null,
            "align_content": null,
            "visibility": null,
            "align_self": null,
            "height": null,
            "min_height": null,
            "padding": null,
            "grid_auto_rows": null,
            "grid_gap": null,
            "max_width": null,
            "order": null,
            "_view_module_version": "1.2.0",
            "grid_template_areas": null,
            "object_position": null,
            "object_fit": null,
            "grid_auto_columns": null,
            "margin": null,
            "display": null,
            "left": null
          }
        },
        "ad5407b124c84355ae7244eaa5dd73fb": {
          "model_module": "@jupyter-widgets/controls",
          "model_name": "HBoxModel",
          "state": {
            "_view_name": "HBoxView",
            "_dom_classes": [],
            "_model_name": "HBoxModel",
            "_view_module": "@jupyter-widgets/controls",
            "_model_module_version": "1.5.0",
            "_view_count": null,
            "_view_module_version": "1.5.0",
            "box_style": "",
            "layout": "IPY_MODEL_3b48029692cf41199766dea364a7180f",
            "_model_module": "@jupyter-widgets/controls",
            "children": [
              "IPY_MODEL_fc060e4e9bbf4a8e82a203e724fc90a3",
              "IPY_MODEL_a558c83727d3448c9ad8d39c5e97275c"
            ]
          }
        },
        "3b48029692cf41199766dea364a7180f": {
          "model_module": "@jupyter-widgets/base",
          "model_name": "LayoutModel",
          "state": {
            "_view_name": "LayoutView",
            "grid_template_rows": null,
            "right": null,
            "justify_content": null,
            "_view_module": "@jupyter-widgets/base",
            "overflow": null,
            "_model_module_version": "1.2.0",
            "_view_count": null,
            "flex_flow": null,
            "width": null,
            "min_width": null,
            "border": null,
            "align_items": null,
            "bottom": null,
            "_model_module": "@jupyter-widgets/base",
            "top": null,
            "grid_column": null,
            "overflow_y": null,
            "overflow_x": null,
            "grid_auto_flow": null,
            "grid_area": null,
            "grid_template_columns": null,
            "flex": null,
            "_model_name": "LayoutModel",
            "justify_items": null,
            "grid_row": null,
            "max_height": null,
            "align_content": null,
            "visibility": null,
            "align_self": null,
            "height": null,
            "min_height": null,
            "padding": null,
            "grid_auto_rows": null,
            "grid_gap": null,
            "max_width": null,
            "order": null,
            "_view_module_version": "1.2.0",
            "grid_template_areas": null,
            "object_position": null,
            "object_fit": null,
            "grid_auto_columns": null,
            "margin": null,
            "display": null,
            "left": null
          }
        },
        "fc060e4e9bbf4a8e82a203e724fc90a3": {
          "model_module": "@jupyter-widgets/controls",
          "model_name": "FloatProgressModel",
          "state": {
            "_view_name": "ProgressView",
            "style": "IPY_MODEL_9b177732112f48bb82f830640c4d9de6",
            "_dom_classes": [],
            "description": "Downloading: 100%",
            "_model_name": "FloatProgressModel",
            "bar_style": "success",
            "max": 672271273,
            "_view_module": "@jupyter-widgets/controls",
            "_model_module_version": "1.5.0",
            "value": 672271273,
            "_view_count": null,
            "_view_module_version": "1.5.0",
            "orientation": "horizontal",
            "min": 0,
            "description_tooltip": null,
            "_model_module": "@jupyter-widgets/controls",
            "layout": "IPY_MODEL_dfd128d7e88642f79c93774b9aecf020"
          }
        },
        "a558c83727d3448c9ad8d39c5e97275c": {
          "model_module": "@jupyter-widgets/controls",
          "model_name": "HTMLModel",
          "state": {
            "_view_name": "HTMLView",
            "style": "IPY_MODEL_cb193c8808974f0196ffce41fe6bfed0",
            "_dom_classes": [],
            "description": "",
            "_model_name": "HTMLModel",
            "placeholder": "​",
            "_view_module": "@jupyter-widgets/controls",
            "_model_module_version": "1.5.0",
            "value": " 672M/672M [00:17&lt;00:00, 38.1MB/s]",
            "_view_count": null,
            "_view_module_version": "1.5.0",
            "description_tooltip": null,
            "_model_module": "@jupyter-widgets/controls",
            "layout": "IPY_MODEL_64375d6601144f85b5a8dd71ec08f31a"
          }
        },
        "9b177732112f48bb82f830640c4d9de6": {
          "model_module": "@jupyter-widgets/controls",
          "model_name": "ProgressStyleModel",
          "state": {
            "_view_name": "StyleView",
            "_model_name": "ProgressStyleModel",
            "description_width": "initial",
            "_view_module": "@jupyter-widgets/base",
            "_model_module_version": "1.5.0",
            "_view_count": null,
            "_view_module_version": "1.2.0",
            "bar_color": null,
            "_model_module": "@jupyter-widgets/controls"
          }
        },
        "dfd128d7e88642f79c93774b9aecf020": {
          "model_module": "@jupyter-widgets/base",
          "model_name": "LayoutModel",
          "state": {
            "_view_name": "LayoutView",
            "grid_template_rows": null,
            "right": null,
            "justify_content": null,
            "_view_module": "@jupyter-widgets/base",
            "overflow": null,
            "_model_module_version": "1.2.0",
            "_view_count": null,
            "flex_flow": null,
            "width": null,
            "min_width": null,
            "border": null,
            "align_items": null,
            "bottom": null,
            "_model_module": "@jupyter-widgets/base",
            "top": null,
            "grid_column": null,
            "overflow_y": null,
            "overflow_x": null,
            "grid_auto_flow": null,
            "grid_area": null,
            "grid_template_columns": null,
            "flex": null,
            "_model_name": "LayoutModel",
            "justify_items": null,
            "grid_row": null,
            "max_height": null,
            "align_content": null,
            "visibility": null,
            "align_self": null,
            "height": null,
            "min_height": null,
            "padding": null,
            "grid_auto_rows": null,
            "grid_gap": null,
            "max_width": null,
            "order": null,
            "_view_module_version": "1.2.0",
            "grid_template_areas": null,
            "object_position": null,
            "object_fit": null,
            "grid_auto_columns": null,
            "margin": null,
            "display": null,
            "left": null
          }
        },
        "cb193c8808974f0196ffce41fe6bfed0": {
          "model_module": "@jupyter-widgets/controls",
          "model_name": "DescriptionStyleModel",
          "state": {
            "_view_name": "StyleView",
            "_model_name": "DescriptionStyleModel",
            "description_width": "",
            "_view_module": "@jupyter-widgets/base",
            "_model_module_version": "1.5.0",
            "_view_count": null,
            "_view_module_version": "1.2.0",
            "_model_module": "@jupyter-widgets/controls"
          }
        },
        "64375d6601144f85b5a8dd71ec08f31a": {
          "model_module": "@jupyter-widgets/base",
          "model_name": "LayoutModel",
          "state": {
            "_view_name": "LayoutView",
            "grid_template_rows": null,
            "right": null,
            "justify_content": null,
            "_view_module": "@jupyter-widgets/base",
            "overflow": null,
            "_model_module_version": "1.2.0",
            "_view_count": null,
            "flex_flow": null,
            "width": null,
            "min_width": null,
            "border": null,
            "align_items": null,
            "bottom": null,
            "_model_module": "@jupyter-widgets/base",
            "top": null,
            "grid_column": null,
            "overflow_y": null,
            "overflow_x": null,
            "grid_auto_flow": null,
            "grid_area": null,
            "grid_template_columns": null,
            "flex": null,
            "_model_name": "LayoutModel",
            "justify_items": null,
            "grid_row": null,
            "max_height": null,
            "align_content": null,
            "visibility": null,
            "align_self": null,
            "height": null,
            "min_height": null,
            "padding": null,
            "grid_auto_rows": null,
            "grid_gap": null,
            "max_width": null,
            "order": null,
            "_view_module_version": "1.2.0",
            "grid_template_areas": null,
            "object_position": null,
            "object_fit": null,
            "grid_auto_columns": null,
            "margin": null,
            "display": null,
            "left": null
          }
        }
      }
    }
  },
  "cells": [
    {
      "cell_type": "code",
      "metadata": {
        "colab": {
          "base_uri": "https://localhost:8080/"
        },
        "id": "a4g0nqzS4rDi",
        "outputId": "86f19379-17b5-4bea-feef-b3f21dfed99d"
      },
      "source": [
        "from google.colab import drive\r\n",
        "drive.mount('/content/drive')"
      ],
      "execution_count": 1,
      "outputs": [
        {
          "output_type": "stream",
          "text": [
            "Mounted at /content/drive\n"
          ],
          "name": "stdout"
        }
      ]
    },
    {
      "cell_type": "code",
      "metadata": {
        "id": "C-Vy8RKJ42NO"
      },
      "source": [
        "import pandas as pd\r\n",
        "import numpy as np\r\n",
        "import matplotlib.pyplot as plt\r\n",
        "import seaborn as sns\r\n",
        "from sklearn.model_selection import train_test_split"
      ],
      "execution_count": 3,
      "outputs": []
    },
    {
      "cell_type": "markdown",
      "metadata": {
        "id": "JLM_11nSRxpj"
      },
      "source": [
        "#### Train DataSet"
      ]
    },
    {
      "cell_type": "code",
      "metadata": {
        "id": "NIqgMa-mmI1g"
      },
      "source": [
        "tweetPath = '/content/drive/MyDrive/interIIT/tweet_train_cleaned.pkl'\r\n",
        "articlePath = '/content/drive/MyDrive/interIIT/article_train_cleaned.pkl'"
      ],
      "execution_count": 4,
      "outputs": []
    },
    {
      "cell_type": "code",
      "metadata": {
        "colab": {
          "base_uri": "https://localhost:8080/",
          "height": 284
        },
        "id": "_iUsItMK5XS5",
        "outputId": "0054f2c6-707d-4106-da49-882cdb6cc2be"
      },
      "source": [
        "tweets = pd.read_pickle(tweetPath)\r\n",
        "tweets.describe()"
      ],
      "execution_count": 5,
      "outputs": [
        {
          "output_type": "execute_result",
          "data": {
            "text/html": [
              "<div>\n",
              "<style scoped>\n",
              "    .dataframe tbody tr th:only-of-type {\n",
              "        vertical-align: middle;\n",
              "    }\n",
              "\n",
              "    .dataframe tbody tr th {\n",
              "        vertical-align: top;\n",
              "    }\n",
              "\n",
              "    .dataframe thead th {\n",
              "        text-align: right;\n",
              "    }\n",
              "</style>\n",
              "<table border=\"1\" class=\"dataframe\">\n",
              "  <thead>\n",
              "    <tr style=\"text-align: right;\">\n",
              "      <th></th>\n",
              "      <th>Mobile_Tech_Tag</th>\n",
              "    </tr>\n",
              "  </thead>\n",
              "  <tbody>\n",
              "    <tr>\n",
              "      <th>count</th>\n",
              "      <td>3095.000000</td>\n",
              "    </tr>\n",
              "    <tr>\n",
              "      <th>mean</th>\n",
              "      <td>0.250081</td>\n",
              "    </tr>\n",
              "    <tr>\n",
              "      <th>std</th>\n",
              "      <td>0.433129</td>\n",
              "    </tr>\n",
              "    <tr>\n",
              "      <th>min</th>\n",
              "      <td>0.000000</td>\n",
              "    </tr>\n",
              "    <tr>\n",
              "      <th>25%</th>\n",
              "      <td>0.000000</td>\n",
              "    </tr>\n",
              "    <tr>\n",
              "      <th>50%</th>\n",
              "      <td>0.000000</td>\n",
              "    </tr>\n",
              "    <tr>\n",
              "      <th>75%</th>\n",
              "      <td>0.500000</td>\n",
              "    </tr>\n",
              "    <tr>\n",
              "      <th>max</th>\n",
              "      <td>1.000000</td>\n",
              "    </tr>\n",
              "  </tbody>\n",
              "</table>\n",
              "</div>"
            ],
            "text/plain": [
              "       Mobile_Tech_Tag\n",
              "count      3095.000000\n",
              "mean          0.250081\n",
              "std           0.433129\n",
              "min           0.000000\n",
              "25%           0.000000\n",
              "50%           0.000000\n",
              "75%           0.500000\n",
              "max           1.000000"
            ]
          },
          "metadata": {
            "tags": []
          },
          "execution_count": 5
        }
      ]
    },
    {
      "cell_type": "code",
      "metadata": {
        "colab": {
          "base_uri": "https://localhost:8080/",
          "height": 284
        },
        "id": "7bbwH4yhml4u",
        "outputId": "013281b2-69a7-4ff8-bfda-598754f50dc9"
      },
      "source": [
        "articles = pd.read_pickle(articlePath)\r\n",
        "articles.describe()"
      ],
      "execution_count": 6,
      "outputs": [
        {
          "output_type": "execute_result",
          "data": {
            "text/html": [
              "<div>\n",
              "<style scoped>\n",
              "    .dataframe tbody tr th:only-of-type {\n",
              "        vertical-align: middle;\n",
              "    }\n",
              "\n",
              "    .dataframe tbody tr th {\n",
              "        vertical-align: top;\n",
              "    }\n",
              "\n",
              "    .dataframe thead th {\n",
              "        text-align: right;\n",
              "    }\n",
              "</style>\n",
              "<table border=\"1\" class=\"dataframe\">\n",
              "  <thead>\n",
              "    <tr style=\"text-align: right;\">\n",
              "      <th></th>\n",
              "      <th>Mobile_Tech_Flag</th>\n",
              "    </tr>\n",
              "  </thead>\n",
              "  <tbody>\n",
              "    <tr>\n",
              "      <th>count</th>\n",
              "      <td>3095.000000</td>\n",
              "    </tr>\n",
              "    <tr>\n",
              "      <th>mean</th>\n",
              "      <td>0.243619</td>\n",
              "    </tr>\n",
              "    <tr>\n",
              "      <th>std</th>\n",
              "      <td>0.429335</td>\n",
              "    </tr>\n",
              "    <tr>\n",
              "      <th>min</th>\n",
              "      <td>0.000000</td>\n",
              "    </tr>\n",
              "    <tr>\n",
              "      <th>25%</th>\n",
              "      <td>0.000000</td>\n",
              "    </tr>\n",
              "    <tr>\n",
              "      <th>50%</th>\n",
              "      <td>0.000000</td>\n",
              "    </tr>\n",
              "    <tr>\n",
              "      <th>75%</th>\n",
              "      <td>0.000000</td>\n",
              "    </tr>\n",
              "    <tr>\n",
              "      <th>max</th>\n",
              "      <td>1.000000</td>\n",
              "    </tr>\n",
              "  </tbody>\n",
              "</table>\n",
              "</div>"
            ],
            "text/plain": [
              "       Mobile_Tech_Flag\n",
              "count       3095.000000\n",
              "mean           0.243619\n",
              "std            0.429335\n",
              "min            0.000000\n",
              "25%            0.000000\n",
              "50%            0.000000\n",
              "75%            0.000000\n",
              "max            1.000000"
            ]
          },
          "metadata": {
            "tags": []
          },
          "execution_count": 6
        }
      ]
    },
    {
      "cell_type": "code",
      "metadata": {
        "colab": {
          "base_uri": "https://localhost:8080/"
        },
        "id": "tNvcbrA_oqDs",
        "outputId": "27f50006-008d-491e-cc77-81abdb417b24"
      },
      "source": [
        "articles['Mobile_Tech_Flag'].value_counts()"
      ],
      "execution_count": 7,
      "outputs": [
        {
          "output_type": "execute_result",
          "data": {
            "text/plain": [
              "0    2341\n",
              "1     754\n",
              "Name: Mobile_Tech_Flag, dtype: int64"
            ]
          },
          "metadata": {
            "tags": []
          },
          "execution_count": 7
        }
      ]
    },
    {
      "cell_type": "code",
      "metadata": {
        "id": "wkuirqVSnot_"
      },
      "source": [
        "newData = articles.drop(['Headline','urls'],axis=1)\r\n",
        "newtweet = pd.DataFrame({\r\n",
        "    'Text_ID': tweets['Tweet_ID'],\r\n",
        "    'Text': tweets['Tweet'],\r\n",
        "    'Mobile_Tech_Flag': tweets['Mobile_Tech_Tag']\r\n",
        "})\r\n",
        "newData = newData.append(newtweet)"
      ],
      "execution_count": 8,
      "outputs": []
    },
    {
      "cell_type": "code",
      "metadata": {
        "id": "CirgdtJzQ_M_"
      },
      "source": [
        "newData.reset_index(drop=True,inplace=True)"
      ],
      "execution_count": 9,
      "outputs": []
    },
    {
      "cell_type": "markdown",
      "metadata": {
        "id": "VSbU7bPtR4Tl"
      },
      "source": [
        "### Val DataSet"
      ]
    },
    {
      "cell_type": "code",
      "metadata": {
        "id": "N3i7ZsulR3xN"
      },
      "source": [
        "tweetvPath = '/content/drive/MyDrive/interIIT/tweet_dev_cleaned.pkl'\r\n",
        "artvPath = '/content/drive/MyDrive/interIIT/article_dev_cleaned.pkl'\r\n",
        "vtweets = pd.read_pickle(tweetvPath)\r\n",
        "varticle = pd.read_pickle(artvPath)"
      ],
      "execution_count": 10,
      "outputs": []
    },
    {
      "cell_type": "code",
      "metadata": {
        "id": "_tR2BtsbSmKz"
      },
      "source": [
        "# vnewData = varticle.drop(['Headline','urls'],axis=1)\r\n",
        "vnewtweet = pd.DataFrame({\r\n",
        "    'Text_ID': vtweets['Tweet_ID'],\r\n",
        "    'Text': vtweets['Tweet'],\r\n",
        "    'Mobile_Tech_Flag': vtweets['Mobile_Tech_Tag']\r\n",
        "})\r\n",
        "# vnewData = vnewData.append(vnewtweet)\r\n",
        "# vnewData.reset_index(drop=True,inplace=True)"
      ],
      "execution_count": 11,
      "outputs": []
    },
    {
      "cell_type": "code",
      "metadata": {
        "colab": {
          "base_uri": "https://localhost:8080/",
          "height": 402
        },
        "id": "4yx0gSru6r6u",
        "outputId": "6eeb76de-70bc-4523-95aa-fba0d93a26e9"
      },
      "source": [
        "vnewtweet"
      ],
      "execution_count": 12,
      "outputs": [
        {
          "output_type": "execute_result",
          "data": {
            "text/html": [
              "<div>\n",
              "<style scoped>\n",
              "    .dataframe tbody tr th:only-of-type {\n",
              "        vertical-align: middle;\n",
              "    }\n",
              "\n",
              "    .dataframe tbody tr th {\n",
              "        vertical-align: top;\n",
              "    }\n",
              "\n",
              "    .dataframe thead th {\n",
              "        text-align: right;\n",
              "    }\n",
              "</style>\n",
              "<table border=\"1\" class=\"dataframe\">\n",
              "  <thead>\n",
              "    <tr style=\"text-align: right;\">\n",
              "      <th></th>\n",
              "      <th>Text_ID</th>\n",
              "      <th>Text</th>\n",
              "      <th>Mobile_Tech_Flag</th>\n",
              "    </tr>\n",
              "  </thead>\n",
              "  <tbody>\n",
              "    <tr>\n",
              "      <th>0</th>\n",
              "      <td>tweet_2285</td>\n",
              "      <td>Jaise Apka Dimag Twitter Pe Baith ke Hugg Skte...</td>\n",
              "      <td>0</td>\n",
              "    </tr>\n",
              "    <tr>\n",
              "      <th>1</th>\n",
              "      <td>tweet_0934</td>\n",
              "      <td>No one thought to make restaurant workers elig...</td>\n",
              "      <td>0</td>\n",
              "    </tr>\n",
              "    <tr>\n",
              "      <th>2</th>\n",
              "      <td>tweet_3991</td>\n",
              "      <td>चीनी मोबाइल कंपनी रियलमी ने अपना Realme V15 5G...</td>\n",
              "      <td>1</td>\n",
              "    </tr>\n",
              "    <tr>\n",
              "      <th>3</th>\n",
              "      <td>tweet_0267</td>\n",
              "      <td>Barnsley have signed Orlando City striker Dary...</td>\n",
              "      <td>0</td>\n",
              "    </tr>\n",
              "    <tr>\n",
              "      <th>4</th>\n",
              "      <td>tweet_2619</td>\n",
              "      <td>Intezaar intezaar ka shor hay kone kone mei Ku...</td>\n",
              "      <td>0</td>\n",
              "    </tr>\n",
              "    <tr>\n",
              "      <th>...</th>\n",
              "      <td>...</td>\n",
              "      <td>...</td>\n",
              "      <td>...</td>\n",
              "    </tr>\n",
              "    <tr>\n",
              "      <th>500</th>\n",
              "      <td>tweet_3485</td>\n",
              "      <td>We are the pioneers of ____ Smartphone Camera ...</td>\n",
              "      <td>1</td>\n",
              "    </tr>\n",
              "    <tr>\n",
              "      <th>501</th>\n",
              "      <td>tweet_0549</td>\n",
              "      <td>QT  ; An outbreak of the #Nipah virus in China...</td>\n",
              "      <td>0</td>\n",
              "    </tr>\n",
              "    <tr>\n",
              "      <th>502</th>\n",
              "      <td>tweet_1702</td>\n",
              "      <td>Loan de k wapis nahi kr rhi thi than  ne mere ...</td>\n",
              "      <td>0</td>\n",
              "    </tr>\n",
              "    <tr>\n",
              "      <th>503</th>\n",
              "      <td>tweet_0251</td>\n",
              "      <td>An outbreak of the Nipah virus in China, with ...</td>\n",
              "      <td>0</td>\n",
              "    </tr>\n",
              "    <tr>\n",
              "      <th>504</th>\n",
              "      <td>tweet_1858</td>\n",
              "      <td>आपका बैंक अब आपके दरवाजे पर। Doorstep banking ...</td>\n",
              "      <td>0</td>\n",
              "    </tr>\n",
              "  </tbody>\n",
              "</table>\n",
              "<p>505 rows × 3 columns</p>\n",
              "</div>"
            ],
            "text/plain": [
              "        Text_ID  ... Mobile_Tech_Flag\n",
              "0    tweet_2285  ...                0\n",
              "1    tweet_0934  ...                0\n",
              "2    tweet_3991  ...                1\n",
              "3    tweet_0267  ...                0\n",
              "4    tweet_2619  ...                0\n",
              "..          ...  ...              ...\n",
              "500  tweet_3485  ...                1\n",
              "501  tweet_0549  ...                0\n",
              "502  tweet_1702  ...                0\n",
              "503  tweet_0251  ...                0\n",
              "504  tweet_1858  ...                0\n",
              "\n",
              "[505 rows x 3 columns]"
            ]
          },
          "metadata": {
            "tags": []
          },
          "execution_count": 12
        }
      ]
    },
    {
      "cell_type": "code",
      "metadata": {
        "id": "q1mI6jVGXpU4"
      },
      "source": [
        "X_train = newData.Text.values\r\n",
        "y_train = newData.Mobile_Tech_Flag.values\r\n",
        "X_val = vnewtweet.Text.values\r\n",
        "y_val = vnewtweet.Mobile_Tech_Flag.values"
      ],
      "execution_count": 13,
      "outputs": []
    },
    {
      "cell_type": "code",
      "metadata": {
        "colab": {
          "base_uri": "https://localhost:8080/"
        },
        "id": "0qjWEZ9oX9qM",
        "outputId": "d0d672f6-a1bd-48c6-d9b6-9726657c85fe"
      },
      "source": [
        "np.unique(y_train)"
      ],
      "execution_count": 14,
      "outputs": [
        {
          "output_type": "execute_result",
          "data": {
            "text/plain": [
              "array([0, 1])"
            ]
          },
          "metadata": {
            "tags": []
          },
          "execution_count": 14
        }
      ]
    },
    {
      "cell_type": "code",
      "metadata": {
        "colab": {
          "base_uri": "https://localhost:8080/"
        },
        "id": "Rpnchv4yXoqz",
        "outputId": "2059f112-2c21-489d-e65c-06ae1c12aa36"
      },
      "source": [
        "import torch\r\n",
        "\r\n",
        "if torch.cuda.is_available():       \r\n",
        "    device = torch.device(\"cuda\")\r\n",
        "    print(f'There are {torch.cuda.device_count()} GPU(s) available.')\r\n",
        "    print('Device name:', torch.cuda.get_device_name(0))\r\n",
        "\r\n",
        "else:\r\n",
        "    print('No GPU available, using the CPU instead.')\r\n",
        "    device = torch.device(\"cpu\")"
      ],
      "execution_count": 15,
      "outputs": [
        {
          "output_type": "stream",
          "text": [
            "There are 1 GPU(s) available.\n",
            "Device name: Tesla P100-PCIE-16GB\n"
          ],
          "name": "stdout"
        }
      ]
    },
    {
      "cell_type": "code",
      "metadata": {
        "colab": {
          "base_uri": "https://localhost:8080/"
        },
        "id": "xAq6jA75aDgN",
        "outputId": "1ce540da-268a-4839-e11c-e63cc1f8ecc2"
      },
      "source": [
        "!nvidia-smi"
      ],
      "execution_count": 16,
      "outputs": [
        {
          "output_type": "stream",
          "text": [
            "Wed Mar 10 11:41:20 2021       \n",
            "+-----------------------------------------------------------------------------+\n",
            "| NVIDIA-SMI 460.56       Driver Version: 460.32.03    CUDA Version: 11.2     |\n",
            "|-------------------------------+----------------------+----------------------+\n",
            "| GPU  Name        Persistence-M| Bus-Id        Disp.A | Volatile Uncorr. ECC |\n",
            "| Fan  Temp  Perf  Pwr:Usage/Cap|         Memory-Usage | GPU-Util  Compute M. |\n",
            "|                               |                      |               MIG M. |\n",
            "|===============================+======================+======================|\n",
            "|   0  Tesla P100-PCIE...  Off  | 00000000:00:04.0 Off |                    0 |\n",
            "| N/A   53C    P0    30W / 250W |      2MiB / 16280MiB |      0%      Default |\n",
            "|                               |                      |                  N/A |\n",
            "+-------------------------------+----------------------+----------------------+\n",
            "                                                                               \n",
            "+-----------------------------------------------------------------------------+\n",
            "| Processes:                                                                  |\n",
            "|  GPU   GI   CI        PID   Type   Process name                  GPU Memory |\n",
            "|        ID   ID                                                   Usage      |\n",
            "|=============================================================================|\n",
            "|  No running processes found                                                 |\n",
            "+-----------------------------------------------------------------------------+\n"
          ],
          "name": "stdout"
        }
      ]
    },
    {
      "cell_type": "code",
      "metadata": {
        "colab": {
          "base_uri": "https://localhost:8080/"
        },
        "id": "M_nZzd--YrGQ",
        "outputId": "44834220-442d-4b6b-86b2-1d2c46e553b1"
      },
      "source": [
        "!pip install transformers"
      ],
      "execution_count": 17,
      "outputs": [
        {
          "output_type": "stream",
          "text": [
            "Collecting transformers\n",
            "\u001b[?25l  Downloading https://files.pythonhosted.org/packages/f9/54/5ca07ec9569d2f232f3166de5457b63943882f7950ddfcc887732fc7fb23/transformers-4.3.3-py3-none-any.whl (1.9MB)\n",
            "\u001b[K     |████████████████████████████████| 1.9MB 11.0MB/s \n",
            "\u001b[?25hRequirement already satisfied: numpy>=1.17 in /usr/local/lib/python3.7/dist-packages (from transformers) (1.19.5)\n",
            "Requirement already satisfied: regex!=2019.12.17 in /usr/local/lib/python3.7/dist-packages (from transformers) (2019.12.20)\n",
            "Collecting sacremoses\n",
            "\u001b[?25l  Downloading https://files.pythonhosted.org/packages/7d/34/09d19aff26edcc8eb2a01bed8e98f13a1537005d31e95233fd48216eed10/sacremoses-0.0.43.tar.gz (883kB)\n",
            "\u001b[K     |████████████████████████████████| 890kB 40.6MB/s \n",
            "\u001b[?25hRequirement already satisfied: importlib-metadata; python_version < \"3.8\" in /usr/local/lib/python3.7/dist-packages (from transformers) (3.7.0)\n",
            "Requirement already satisfied: filelock in /usr/local/lib/python3.7/dist-packages (from transformers) (3.0.12)\n",
            "Requirement already satisfied: tqdm>=4.27 in /usr/local/lib/python3.7/dist-packages (from transformers) (4.41.1)\n",
            "Requirement already satisfied: requests in /usr/local/lib/python3.7/dist-packages (from transformers) (2.23.0)\n",
            "Collecting tokenizers<0.11,>=0.10.1\n",
            "\u001b[?25l  Downloading https://files.pythonhosted.org/packages/71/23/2ddc317b2121117bf34dd00f5b0de194158f2a44ee2bf5e47c7166878a97/tokenizers-0.10.1-cp37-cp37m-manylinux2010_x86_64.whl (3.2MB)\n",
            "\u001b[K     |████████████████████████████████| 3.2MB 43.4MB/s \n",
            "\u001b[?25hRequirement already satisfied: packaging in /usr/local/lib/python3.7/dist-packages (from transformers) (20.9)\n",
            "Requirement already satisfied: six in /usr/local/lib/python3.7/dist-packages (from sacremoses->transformers) (1.15.0)\n",
            "Requirement already satisfied: click in /usr/local/lib/python3.7/dist-packages (from sacremoses->transformers) (7.1.2)\n",
            "Requirement already satisfied: joblib in /usr/local/lib/python3.7/dist-packages (from sacremoses->transformers) (1.0.1)\n",
            "Requirement already satisfied: zipp>=0.5 in /usr/local/lib/python3.7/dist-packages (from importlib-metadata; python_version < \"3.8\"->transformers) (3.4.1)\n",
            "Requirement already satisfied: typing-extensions>=3.6.4; python_version < \"3.8\" in /usr/local/lib/python3.7/dist-packages (from importlib-metadata; python_version < \"3.8\"->transformers) (3.7.4.3)\n",
            "Requirement already satisfied: certifi>=2017.4.17 in /usr/local/lib/python3.7/dist-packages (from requests->transformers) (2020.12.5)\n",
            "Requirement already satisfied: idna<3,>=2.5 in /usr/local/lib/python3.7/dist-packages (from requests->transformers) (2.10)\n",
            "Requirement already satisfied: chardet<4,>=3.0.2 in /usr/local/lib/python3.7/dist-packages (from requests->transformers) (3.0.4)\n",
            "Requirement already satisfied: urllib3!=1.25.0,!=1.25.1,<1.26,>=1.21.1 in /usr/local/lib/python3.7/dist-packages (from requests->transformers) (1.24.3)\n",
            "Requirement already satisfied: pyparsing>=2.0.2 in /usr/local/lib/python3.7/dist-packages (from packaging->transformers) (2.4.7)\n",
            "Building wheels for collected packages: sacremoses\n",
            "  Building wheel for sacremoses (setup.py) ... \u001b[?25l\u001b[?25hdone\n",
            "  Created wheel for sacremoses: filename=sacremoses-0.0.43-cp37-none-any.whl size=893262 sha256=75e2410a785d90909da0f813c6f96c6293813ef48623567b7cac086d851e201c\n",
            "  Stored in directory: /root/.cache/pip/wheels/29/3c/fd/7ce5c3f0666dab31a50123635e6fb5e19ceb42ce38d4e58f45\n",
            "Successfully built sacremoses\n",
            "Installing collected packages: sacremoses, tokenizers, transformers\n",
            "Successfully installed sacremoses-0.0.43 tokenizers-0.10.1 transformers-4.3.3\n"
          ],
          "name": "stdout"
        }
      ]
    },
    {
      "cell_type": "code",
      "metadata": {
        "id": "4gJ_islGWwax",
        "colab": {
          "base_uri": "https://localhost:8080/",
          "height": 66,
          "referenced_widgets": [
            "80c67cd4467048abbbda1921dec03737",
            "23293a34efdc41fd8142142fb08c0ab6",
            "af67f52a6361479b87450536521a727a",
            "09a6bfa7e1db4985bd10e27190f3d88e",
            "c5acad33e8794e3ba8d439ef7be077d3",
            "88fe7741c1b44342bce7879b3f4efb5c",
            "574e538b3c16462ca9fc86d42d28e7ec",
            "5154dfc37d754b3dadcdfa7a45fbdf1d"
          ]
        },
        "outputId": "b7cdcd9a-a89c-426f-eafe-ed9b76cfb46f"
      },
      "source": [
        "from transformers import BertTokenizer\r\n",
        "tokenizer = BertTokenizer.from_pretrained('bert-base-multilingual-uncased', do_lower_case=True)\r\n",
        "def preprocessing_for_bert(data):\r\n",
        "    input_ids = []\r\n",
        "    attention_masks = []\r\n",
        "\r\n",
        "    # For every sentence...\r\n",
        "    for sent in data:\r\n",
        "        encoded_sent = tokenizer.encode_plus(\r\n",
        "            text=sent,  \r\n",
        "            add_special_tokens=True,        \r\n",
        "            max_length=MAX_LEN,             \r\n",
        "            pad_to_max_length=True,         \r\n",
        "            #return_tensors='pt',           \r\n",
        "            return_attention_mask=True   \r\n",
        "            )\r\n",
        "        input_ids.append(encoded_sent.get('input_ids'))\r\n",
        "        attention_masks.append(encoded_sent.get('attention_mask'))\r\n",
        "\r\n",
        "    # Convert lists to tensors\r\n",
        "    input_ids = torch.tensor(input_ids)\r\n",
        "    attention_masks = torch.tensor(attention_masks)\r\n",
        "\r\n",
        "    return input_ids, attention_masks"
      ],
      "execution_count": 47,
      "outputs": [
        {
          "output_type": "display_data",
          "data": {
            "application/vnd.jupyter.widget-view+json": {
              "model_id": "80c67cd4467048abbbda1921dec03737",
              "version_minor": 0,
              "version_major": 2
            },
            "text/plain": [
              "HBox(children=(FloatProgress(value=0.0, description='Downloading', max=871891.0, style=ProgressStyle(descripti…"
            ]
          },
          "metadata": {
            "tags": []
          }
        },
        {
          "output_type": "stream",
          "text": [
            "\n"
          ],
          "name": "stdout"
        }
      ]
    },
    {
      "cell_type": "code",
      "metadata": {
        "colab": {
          "base_uri": "https://localhost:8080/"
        },
        "id": "ACpQkcaYZvyx",
        "outputId": "7489a596-db42-4544-b3c4-2cc8939647ca"
      },
      "source": [
        "type(X_train)"
      ],
      "execution_count": 19,
      "outputs": [
        {
          "output_type": "execute_result",
          "data": {
            "text/plain": [
              "numpy.ndarray"
            ]
          },
          "metadata": {
            "tags": []
          },
          "execution_count": 19
        }
      ]
    },
    {
      "cell_type": "code",
      "metadata": {
        "id": "xJGxV4hnZBm0"
      },
      "source": [
        "# all_tweets = newData.Text.values\r\n",
        "\r\n",
        "# # Encode our concatenated data\r\n",
        "# encoded_tweets = [tokenizer.encode(sent, add_special_tokens=True) for sent in all_tweets]\r\n",
        "\r\n",
        "# # Find the maximum length\r\n",
        "# max_len = max([len(sent) for sent in encoded_tweets])\r\n",
        "# print('Max length: ', max_len)"
      ],
      "execution_count": 20,
      "outputs": []
    },
    {
      "cell_type": "code",
      "metadata": {
        "colab": {
          "base_uri": "https://localhost:8080/",
          "height": 137
        },
        "id": "9ukaWXe7Tb0c",
        "outputId": "f5faacf3-ed32-40e9-d333-3e8db860df4b"
      },
      "source": [
        "X = X_train[4]\r\n",
        "X"
      ],
      "execution_count": 49,
      "outputs": [
        {
          "output_type": "execute_result",
          "data": {
            "application/vnd.google.colaboratory.intrinsic+json": {
              "type": "string"
            },
            "text/plain": [
              "'Oppo K7x को 5G सपोर्ट और क्वाड-रियर कैमरा के साथ किया गया लॉन्च, ये है कीमत Oppo K7x को कंपनी की ओर से ओप्पो के नए 5G स्मार्टफ़ोन या ऐसा भी कह सकते हैं कि लेटेस्ट Oppo 5G स्मार्टफ़ोन के तौर पर चीन के बाजारों में लॉन्च कर दिया गया है। इस मोबाइल फोन के बारे में पिछले महीने कुछ जानकारी सामने आई थी लेकिन अब इसे आधिकारिक तौर पर लॉन्च कर दिया गया है। Oppo K7x में आपको कुछ खास फीचर्स भी मिल रहे है, इन फीचर्स में एक क्वाड-कैमरा सेटअप और ओक्टा-कोर प्रोसेसर भी मिल रहा है। इसके अलावा इस मोबाइल फोन दो अलग अलग रंगों के अलावा सिंगल रैम और स्टोरेज मॉडल में लॉन्च किया गया है। Oppo K7x की कीमत और अन्य डिटेल्स Oppo K7x को चीन के बाजार में CNY 1,499 यानी लगभग Rs 16,700 की कीमत में एक ही वैरिएंट यानी 6GB रैम और 128GB स्टोरेज में लॉन्च कर दिया गया है। इस मोबाइल फोन को ब्लैक मिरर और ब्लू शैडो कलर ऑप्शन में लॉन्च किया गया है। इसके अलावा आपको बता देते है कि इस मोबाइल फोन को चीन में प्री-ऑर्डर के लिए भी लाया जा चुका है, साथ ही बता देते है कि फोन की सेल 11 नवम्बर को शुरू हो जाने वाली है। अभी की चर्चा करें तो इस बारे में कोई भी जानकारी मौजूद नहीं है कि आखिर इस मोबाइल फोन को भारत के बाजार में सेल के लिए कब लाया जाने वाला है, या इसकी सेल कब होने वाली है। Oppo K7x स्पेसिफ़िकेशन्स और फीचर्स Oppo K7x मोबाइल फोन को एंड्राइड 10 के साथ कलरOS 7. 2 पर लॉन्च किया गया है, इसके अलावा इस मोबाइल फोन में आपको एक 6. 5-इंच की FHD+ डिस्प्ले मिल रही है। इसके अलावा स्क्रीन पर आपको कोर्निंग गोरिला ग्लास 3 का प्रोटेक्शन भी मिल रहा है। इस मोबाइल फोन में यानी Oppo K7x में आपको ओक्टा-कोर मीडियाटेक Dimensity 720 प्रोसेसर मिल रहा है, इसके अलावा फोन में आपको एक 6GB की LPDDR4x रैम मिल रही है। अगर हम फोटोग्राफी आदि की बात करते हैं तो इस मोबाइल फोन में यानी Oppo K7x में आपको एक क्वाड-कैमरा सेटअप मिल रहा है, इसके अलावा फोन में आपको एक 48MP का प्राइमरी सेंसर मिल रहा है, इसके अलावा फोन में आपको एक 8MP का अल्ट्रा-वाइड-एंगल कैमरा मिल रहा है, इसके अलावा फोन में आपको एक 2MP का ब्लैक और वाइट सेंसर मिल रहा है, इसके अलावा फोन में आपको एक 2MP का मैक्रो लेंस भी मिल रहा है। इसके अलावा फोन में आपको एक 16MP का सेल्फी कैमरा भी मिल रहा है, इसे आप होल-पंच कटआउट पर देख सकते हैं। मोबाइल फोन में आपको 128GB की नॉन-एक्सपेंडेबल स्टोरेज मिल रही है, इसके अलावा फोन में आपको एक 5000mAh क्षमता की 30W की फ़ास्ट चार्जिंग मिल रही है। हालाँकि इतना ही नहीं इस मोबाइल फोन में आपको ड्यूल बेंड वा'"
            ]
          },
          "metadata": {
            "tags": []
          },
          "execution_count": 49
        }
      ]
    },
    {
      "cell_type": "code",
      "metadata": {
        "colab": {
          "base_uri": "https://localhost:8080/"
        },
        "id": "HDLnllBsVKVj",
        "outputId": "4165a62b-6a50-4b18-ff3d-ddbfbdda8903"
      },
      "source": [
        "MAX_LEN = 300\r\n",
        "\r\n",
        "token_ids = list(preprocessing_for_bert([X])[0].squeeze().numpy())\r\n",
        "print('Original: ', X)\r\n",
        "print('Token IDs: ', token_ids)"
      ],
      "execution_count": 50,
      "outputs": [
        {
          "output_type": "stream",
          "text": [
            "Original:  Oppo K7x को 5G सपोर्ट और क्वाड-रियर कैमरा के साथ किया गया लॉन्च, ये है कीमत Oppo K7x को कंपनी की ओर से ओप्पो के नए 5G स्मार्टफ़ोन या ऐसा भी कह सकते हैं कि लेटेस्ट Oppo 5G स्मार्टफ़ोन के तौर पर चीन के बाजारों में लॉन्च कर दिया गया है। इस मोबाइल फोन के बारे में पिछले महीने कुछ जानकारी सामने आई थी लेकिन अब इसे आधिकारिक तौर पर लॉन्च कर दिया गया है। Oppo K7x में आपको कुछ खास फीचर्स भी मिल रहे है, इन फीचर्स में एक क्वाड-कैमरा सेटअप और ओक्टा-कोर प्रोसेसर भी मिल रहा है। इसके अलावा इस मोबाइल फोन दो अलग अलग रंगों के अलावा सिंगल रैम और स्टोरेज मॉडल में लॉन्च किया गया है। Oppo K7x की कीमत और अन्य डिटेल्स Oppo K7x को चीन के बाजार में CNY 1,499 यानी लगभग Rs 16,700 की कीमत में एक ही वैरिएंट यानी 6GB रैम और 128GB स्टोरेज में लॉन्च कर दिया गया है। इस मोबाइल फोन को ब्लैक मिरर और ब्लू शैडो कलर ऑप्शन में लॉन्च किया गया है। इसके अलावा आपको बता देते है कि इस मोबाइल फोन को चीन में प्री-ऑर्डर के लिए भी लाया जा चुका है, साथ ही बता देते है कि फोन की सेल 11 नवम्बर को शुरू हो जाने वाली है। अभी की चर्चा करें तो इस बारे में कोई भी जानकारी मौजूद नहीं है कि आखिर इस मोबाइल फोन को भारत के बाजार में सेल के लिए कब लाया जाने वाला है, या इसकी सेल कब होने वाली है। Oppo K7x स्पेसिफ़िकेशन्स और फीचर्स Oppo K7x मोबाइल फोन को एंड्राइड 10 के साथ कलरOS 7. 2 पर लॉन्च किया गया है, इसके अलावा इस मोबाइल फोन में आपको एक 6. 5-इंच की FHD+ डिस्प्ले मिल रही है। इसके अलावा स्क्रीन पर आपको कोर्निंग गोरिला ग्लास 3 का प्रोटेक्शन भी मिल रहा है। इस मोबाइल फोन में यानी Oppo K7x में आपको ओक्टा-कोर मीडियाटेक Dimensity 720 प्रोसेसर मिल रहा है, इसके अलावा फोन में आपको एक 6GB की LPDDR4x रैम मिल रही है। अगर हम फोटोग्राफी आदि की बात करते हैं तो इस मोबाइल फोन में यानी Oppo K7x में आपको एक क्वाड-कैमरा सेटअप मिल रहा है, इसके अलावा फोन में आपको एक 48MP का प्राइमरी सेंसर मिल रहा है, इसके अलावा फोन में आपको एक 8MP का अल्ट्रा-वाइड-एंगल कैमरा मिल रहा है, इसके अलावा फोन में आपको एक 2MP का ब्लैक और वाइट सेंसर मिल रहा है, इसके अलावा फोन में आपको एक 2MP का मैक्रो लेंस भी मिल रहा है। इसके अलावा फोन में आपको एक 16MP का सेल्फी कैमरा भी मिल रहा है, इसे आप होल-पंच कटआउट पर देख सकते हैं। मोबाइल फोन में आपको 128GB की नॉन-एक्सपेंडेबल स्टोरेज मिल रही है, इसके अलावा फोन में आपको एक 5000mAh क्षमता की 30W की फ़ास्ट चार्जिंग मिल रही है। हालाँकि इतना ही नहीं इस मोबाइल फोन में आपको ड्यूल बेंड वा\n",
            "Token IDs:  [101, 15445, 10132, 153, 11444, 10661, 11483, 126, 10251, 579, 15674, 87484, 11142, 547, 27185, 12876, 118, 573, 74693, 30543, 27843, 547, 16288, 13328, 14619, 574, 64137, 14870, 117, 572, 580, 10944, 48338, 15445, 10132, 153, 11444, 10661, 11483, 62947, 10944, 44239, 579, 545, 15674, 15674, 11231, 547, 566, 18155, 126, 10251, 579, 75799, 13043, 20705, 37005, 12453, 68961, 13610, 547, 16080, 35490, 580, 14500, 574, 13043, 36276, 15445, 10132, 126, 10251, 579, 75799, 13043, 20705, 37005, 547, 64883, 12334, 87452, 547, 569, 92986, 36666, 571, 574, 64137, 14870, 15807, 20574, 14619, 580, 591, 13901, 571, 11231, 67976, 79141, 568, 37005, 547, 30952, 571, 567, 13060, 22621, 11468, 571, 23546, 11059, 22444, 30945, 53393, 93763, 43892, 15721, 32140, 45729, 13901, 91740, 64883, 12334, 574, 64137, 14870, 15807, 20574, 14619, 580, 591, 15445, 10132, 153, 11444, 10661, 571, 533, 94464, 11231, 22444, 56336, 12114, 568, 62872, 62687, 13610, 87355, 29131, 580, 117, 30017, 568, 62872, 62687, 571, 11384, 547, 27185, 12876, 118, 30543, 27843, 579, 13043, 96806, 15674, 11142, 545, 60340, 10949, 118, 11483, 11551, 12334, 11231, 12114, 42516, 13610, 87355, 36335, 580, 591, 24125, 59339, 13901, 571, 11231, 67976, 79141, 568, 37005, 29931, 44380, 44380, 72285, 11231, 547, 59339, 579, 25172, 11468, 573, 12670, 11142, 579, 88468, 11551, 14256, 571, 96818, 48299, 571, 574, 64137, 14870, 13328, 14619, 580, 591, 15445, 10132, 153, 11444, 10661, 10944, 10944, 48338, 11142, 22679, 559, 75760, 69386, 15445, 10132, 153, 11444, 10661, 11483, 87452, 547, 569, 92986, 11551, 571, 40371, 10158, 122, 117, 37977, 44010, 41555, 21764, 10256, 117, 11983, 10944, 10944, 48338, 571, 11384, 14473, 576, 11551, 70810, 13043, 44010, 127, 39388, 573, 12670, 11142, 16218, 39388, 579, 88468, 11551, 14256, 571, 574, 64137, 14870, 15807, 20574, 14619, 580, 591, 13901, 571, 11231, 67976, 79141, 568, 37005, 11483, 73349, 12030, 571, 41469, 102]\n"
          ],
          "name": "stdout"
        },
        {
          "output_type": "stream",
          "text": [
            "/usr/local/lib/python3.7/dist-packages/transformers/tokenization_utils_base.py:2155: FutureWarning: The `pad_to_max_length` argument is deprecated and will be removed in a future version, use `padding=True` or `padding='longest'` to pad to the longest sequence in the batch, or use `padding='max_length'` to pad to a max length. In this case, you can give a specific length with `max_length` (e.g. `max_length=45`) or leave max_length to None to pad to the maximal input size of the model (e.g. 512 for Bert).\n",
            "  FutureWarning,\n"
          ],
          "name": "stderr"
        }
      ]
    },
    {
      "cell_type": "code",
      "metadata": {
        "colab": {
          "base_uri": "https://localhost:8080/"
        },
        "id": "oGROYPj4Z4lA",
        "outputId": "93d6cb95-826a-49bd-b3d4-8896a182acc5"
      },
      "source": [
        "train_inputs, train_masks = preprocessing_for_bert(X_train)\r\n",
        "val_inputs, val_masks = preprocessing_for_bert(X_val)"
      ],
      "execution_count": 51,
      "outputs": [
        {
          "output_type": "stream",
          "text": [
            "/usr/local/lib/python3.7/dist-packages/transformers/tokenization_utils_base.py:2155: FutureWarning: The `pad_to_max_length` argument is deprecated and will be removed in a future version, use `padding=True` or `padding='longest'` to pad to the longest sequence in the batch, or use `padding='max_length'` to pad to a max length. In this case, you can give a specific length with `max_length` (e.g. `max_length=45`) or leave max_length to None to pad to the maximal input size of the model (e.g. 512 for Bert).\n",
            "  FutureWarning,\n"
          ],
          "name": "stderr"
        }
      ]
    },
    {
      "cell_type": "code",
      "metadata": {
        "colab": {
          "base_uri": "https://localhost:8080/"
        },
        "id": "c3IxD7lqU8w6",
        "outputId": "028dedd6-c388-4a5e-829b-52e27746a594"
      },
      "source": [
        "train_inputs.shape"
      ],
      "execution_count": 52,
      "outputs": [
        {
          "output_type": "execute_result",
          "data": {
            "text/plain": [
              "torch.Size([6190, 300])"
            ]
          },
          "metadata": {
            "tags": []
          },
          "execution_count": 52
        }
      ]
    },
    {
      "cell_type": "code",
      "metadata": {
        "id": "1dF2zKrzaQJN"
      },
      "source": [
        "from torch.utils.data import TensorDataset, DataLoader, RandomSampler, SequentialSampler\r\n",
        "train_labels = torch.tensor(y_train)\r\n",
        "val_labels = torch.tensor(y_val)\r\n",
        "\r\n",
        "batch_size = 32\r\n",
        "\r\n",
        "# Create the DataLoader for our training set\r\n",
        "train_data = TensorDataset(train_inputs, train_masks, train_labels)\r\n",
        "train_sampler = RandomSampler(train_data)\r\n",
        "train_dataloader = DataLoader(train_data, sampler=train_sampler, batch_size=batch_size)\r\n",
        "\r\n",
        "# Create the DataLoader for our validation set\r\n",
        "val_data = TensorDataset(val_inputs, val_masks, val_labels)\r\n",
        "val_sampler = SequentialSampler(val_data)\r\n",
        "val_dataloader = DataLoader(val_data, sampler=val_sampler, batch_size=batch_size)"
      ],
      "execution_count": 53,
      "outputs": []
    },
    {
      "cell_type": "code",
      "metadata": {
        "colab": {
          "base_uri": "https://localhost:8080/"
        },
        "id": "wHyIJo6Zau-j",
        "outputId": "992b6a19-296b-4c85-8fde-dbcd7e74b11a"
      },
      "source": [
        "%time\r\n",
        "import torch\r\n",
        "import torch.nn as nn\r\n",
        "from transformers import BertModel\r\n",
        "\r\n",
        "# Create the BertClassfier class\r\n",
        "class BertClassifier(nn.Module):\r\n",
        "    def __init__(self, freeze_bert=False):\r\n",
        "        super(BertClassifier, self).__init__()\r\n",
        "        # Specify hidden size of BERT, hidden size of our classifier, and number of labels\r\n",
        "        D_in, H, D_out = 768, 80, 2\r\n",
        "\r\n",
        "        # Instantiate BERT model\r\n",
        "        self.bert = BertModel.from_pretrained('bert-base-multilingual-uncased')\r\n",
        "\r\n",
        "        # Instantiate an one-layer feed-forward classifier\r\n",
        "        self.classifier = nn.Sequential(\r\n",
        "            nn.Linear(D_in, H),\r\n",
        "            nn.ReLU(),\r\n",
        "            #nn.Dropout(0.5),\r\n",
        "            nn.Linear(H, D_out)\r\n",
        "        )\r\n",
        "\r\n",
        "        # Freeze the BERT model\r\n",
        "        if freeze_bert:\r\n",
        "            for param in self.bert.parameters():\r\n",
        "                param.requires_grad = False\r\n",
        "        \r\n",
        "    def forward(self, input_ids, attention_mask):\r\n",
        "        # Feed input to BERT\r\n",
        "        outputs = self.bert(input_ids=input_ids,\r\n",
        "                            attention_mask=attention_mask)\r\n",
        "        \r\n",
        "        # Extract the last hidden state of the token `[CLS]` for classification task\r\n",
        "        last_hidden_state_cls = outputs[0][:, 0, :]\r\n",
        "\r\n",
        "        # Feed input to classifier to compute logits\r\n",
        "        logits = self.classifier(last_hidden_state_cls)\r\n",
        "\r\n",
        "        return logits"
      ],
      "execution_count": 56,
      "outputs": [
        {
          "output_type": "stream",
          "text": [
            "CPU times: user 2 µs, sys: 1e+03 ns, total: 3 µs\n",
            "Wall time: 4.53 µs\n"
          ],
          "name": "stdout"
        }
      ]
    },
    {
      "cell_type": "code",
      "metadata": {
        "id": "ezOdylqTbG0b"
      },
      "source": [
        "from transformers import AdamW, get_linear_schedule_with_warmup\r\n",
        "\r\n",
        "def initialize_model(epochs=4):\r\n",
        "    \"\"\"Initialize the Bert Classifier, the optimizer and the learning rate scheduler.\r\n",
        "    \"\"\"\r\n",
        "    # Instantiate Bert Classifier\r\n",
        "    bert_classifier = BertClassifier(freeze_bert=False)\r\n",
        "\r\n",
        "    # Tell PyTorch to run the model on GPU\r\n",
        "    bert_classifier.to(device)\r\n",
        "\r\n",
        "    # Create the optimizer\r\n",
        "    optimizer = AdamW(bert_classifier.parameters(),\r\n",
        "                      lr=1e-4,    # Default learning rate\r\n",
        "                      eps=1e-8    # Default epsilon value\r\n",
        "                      )\r\n",
        "\r\n",
        "    # Total number of training steps\r\n",
        "    total_steps = len(train_dataloader) * epochs\r\n",
        "\r\n",
        "    # Set up the learning rate scheduler\r\n",
        "    scheduler = get_linear_schedule_with_warmup(optimizer,\r\n",
        "                                                num_warmup_steps=0, # Default value\r\n",
        "                                                num_training_steps=total_steps)\r\n",
        "    return bert_classifier, optimizer, scheduler"
      ],
      "execution_count": 57,
      "outputs": []
    },
    {
      "cell_type": "code",
      "metadata": {
        "id": "C66HfUiwbMXo"
      },
      "source": [
        "import random\r\n",
        "import time\r\n",
        "\r\n",
        "# Specify loss function\r\n",
        "loss_fn = nn.CrossEntropyLoss()\r\n",
        "\r\n",
        "def set_seed(seed_value=42):\r\n",
        "    \"\"\"Set seed for reproducibility.\r\n",
        "    \"\"\"\r\n",
        "    random.seed(seed_value)\r\n",
        "    np.random.seed(seed_value)\r\n",
        "    torch.manual_seed(seed_value)\r\n",
        "    torch.cuda.manual_seed_all(seed_value)\r\n",
        "\r\n",
        "def train(model, train_dataloader, val_dataloader=None, epochs=4, evaluation=False):\r\n",
        "    \"\"\"Train the BertClassifier model.\r\n",
        "    \"\"\"\r\n",
        "    # Start training loop\r\n",
        "    print(\"Start training...\\n\")\r\n",
        "    for epoch_i in range(epochs):\r\n",
        "        # =======================================\r\n",
        "        #               Training\r\n",
        "        # =======================================\r\n",
        "        # Print the header of the result table\r\n",
        "        print(f\"{'Epoch':^7} | {'Batch':^7} | {'Train Loss':^12} | {'Val Loss':^10} | {'Val Acc':^9} | {'Elapsed':^9}\")\r\n",
        "        print(\"-\"*70)\r\n",
        "\r\n",
        "        # Measure the elapsed time of each epoch\r\n",
        "        t0_epoch, t0_batch = time.time(), time.time()\r\n",
        "\r\n",
        "        # Reset tracking variables at the beginning of each epoch\r\n",
        "        total_loss, batch_loss, batch_counts = 0, 0, 0\r\n",
        "\r\n",
        "        # Put the model into the training mode\r\n",
        "        model.train()\r\n",
        "\r\n",
        "        # For each batch of training data...\r\n",
        "        for step, batch in enumerate(train_dataloader):\r\n",
        "            batch_counts +=1\r\n",
        "            # Load batch to GPU\r\n",
        "            b_input_ids, b_attn_mask, b_labels = tuple(t.to(device) for t in batch)\r\n",
        "\r\n",
        "            # Zero out any previously calculated gradients\r\n",
        "            model.zero_grad()\r\n",
        "\r\n",
        "            # Perform a forward pass. This will return logits.\r\n",
        "            logits = model(b_input_ids, b_attn_mask)\r\n",
        "\r\n",
        "            # Compute loss and accumulate the loss values\r\n",
        "            loss = loss_fn(logits, b_labels)\r\n",
        "            batch_loss += loss.item()\r\n",
        "            total_loss += loss.item()\r\n",
        "\r\n",
        "            # Perform a backward pass to calculate gradients\r\n",
        "            loss.backward()\r\n",
        "\r\n",
        "            # Clip the norm of the gradients to 1.0 to prevent \"exploding gradients\"\r\n",
        "            torch.nn.utils.clip_grad_norm_(model.parameters(), 1.0)\r\n",
        "\r\n",
        "            # Update parameters and the learning rate\r\n",
        "            optimizer.step()\r\n",
        "            scheduler.step()\r\n",
        "\r\n",
        "            # Print the loss values and time elapsed for every 20 batches\r\n",
        "            if (step % 20 == 0 and step != 0) or (step == len(train_dataloader) - 1):\r\n",
        "                # Calculate time elapsed for 20 batches\r\n",
        "                time_elapsed = time.time() - t0_batch\r\n",
        "\r\n",
        "                # Print training results\r\n",
        "                print(f\"{epoch_i + 1:^7} | {step:^7} | {batch_loss / batch_counts:^12.6f} | {'-':^10} | {'-':^9} | {time_elapsed:^9.2f}\")\r\n",
        "\r\n",
        "                # Reset batch tracking variables\r\n",
        "                batch_loss, batch_counts = 0, 0\r\n",
        "                t0_batch = time.time()\r\n",
        "\r\n",
        "        # Calculate the average loss over the entire training data\r\n",
        "        avg_train_loss = total_loss / len(train_dataloader)\r\n",
        "\r\n",
        "        print(\"-\"*70)\r\n",
        "        # =======================================\r\n",
        "        #               Evaluation\r\n",
        "        # =======================================\r\n",
        "        if evaluation == True:\r\n",
        "            # After the completion of each training epoch, measure the model's performance\r\n",
        "            # on our validation set.\r\n",
        "            val_loss, val_accuracy = evaluate(model, val_dataloader)\r\n",
        "\r\n",
        "            # Print performance over the entire training data\r\n",
        "            time_elapsed = time.time() - t0_epoch\r\n",
        "            \r\n",
        "            print(f\"{epoch_i + 1:^7} | {'-':^7} | {avg_train_loss:^12.6f} | {val_loss:^10.6f} | {val_accuracy:^9.2f} | {time_elapsed:^9.2f}\")\r\n",
        "            print(\"-\"*70)\r\n",
        "        print(\"\\n\")\r\n",
        "    \r\n",
        "    print(\"Training complete!\")\r\n",
        "\r\n",
        "\r\n",
        "def evaluate(model, val_dataloader):\r\n",
        "    \"\"\"After the completion of each training epoch, measure the model's performance\r\n",
        "    on our validation set.\r\n",
        "    \"\"\"\r\n",
        "    # Put the model into the evaluation mode. The dropout layers are disabled during\r\n",
        "    # the test time.\r\n",
        "    model.eval()\r\n",
        "\r\n",
        "    # Tracking variables\r\n",
        "    val_accuracy = []\r\n",
        "    val_loss = []\r\n",
        "\r\n",
        "    # For each batch in our validation set...\r\n",
        "    for batch in val_dataloader:\r\n",
        "        # Load batch to GPU\r\n",
        "        b_input_ids, b_attn_mask, b_labels = tuple(t.to(device) for t in batch)\r\n",
        "\r\n",
        "        # Compute logits\r\n",
        "        with torch.no_grad():\r\n",
        "            logits = model(b_input_ids, b_attn_mask)\r\n",
        "\r\n",
        "        # Compute loss\r\n",
        "        loss = loss_fn(logits, b_labels)\r\n",
        "        val_loss.append(loss.item())\r\n",
        "\r\n",
        "        # Get the predictions\r\n",
        "        preds = torch.argmax(logits, dim=1).flatten()\r\n",
        "\r\n",
        "        # Calculate the accuracy rate\r\n",
        "        accuracy = (preds == b_labels).cpu().numpy().mean() * 100\r\n",
        "        val_accuracy.append(accuracy)\r\n",
        "\r\n",
        "    # Compute the average accuracy and loss over the validation set.\r\n",
        "    val_loss = np.mean(val_loss)\r\n",
        "    val_accuracy = np.mean(val_accuracy)\r\n",
        "\r\n",
        "    return val_loss, val_accuracy"
      ],
      "execution_count": 58,
      "outputs": []
    },
    {
      "cell_type": "code",
      "metadata": {
        "colab": {
          "base_uri": "https://localhost:8080/",
          "height": 736,
          "referenced_widgets": [
            "296902fc986a4ca88c1a326b52bb2fcc",
            "1a5bf854a83540a2846e53f2bea2ae6a",
            "e2a6ec78f5414ae6ae19ccb1d57ef424",
            "935316ad4c2f48c2958f21505eca59ac",
            "e5c3f887896a4ef1aaf3eada6ae0470a",
            "a6a5325dd6544a478046bd7a02fbe106",
            "51c67c7c59af4cc586f1bb8d679e5865",
            "b1a50edb0e234f6d81c381e9402793bc",
            "ad5407b124c84355ae7244eaa5dd73fb",
            "3b48029692cf41199766dea364a7180f",
            "fc060e4e9bbf4a8e82a203e724fc90a3",
            "a558c83727d3448c9ad8d39c5e97275c",
            "9b177732112f48bb82f830640c4d9de6",
            "dfd128d7e88642f79c93774b9aecf020",
            "cb193c8808974f0196ffce41fe6bfed0",
            "64375d6601144f85b5a8dd71ec08f31a"
          ]
        },
        "id": "A4gJSkARbYmg",
        "outputId": "161da67b-6717-4e3c-9955-fa5afc23a39e"
      },
      "source": [
        "set_seed(42)   \r\n",
        "bert_classifier, optimizer, scheduler = initialize_model(epochs=2)\r\n",
        "train(bert_classifier, train_dataloader, val_dataloader, epochs=2, evaluation=True)"
      ],
      "execution_count": 59,
      "outputs": [
        {
          "output_type": "display_data",
          "data": {
            "application/vnd.jupyter.widget-view+json": {
              "model_id": "296902fc986a4ca88c1a326b52bb2fcc",
              "version_minor": 0,
              "version_major": 2
            },
            "text/plain": [
              "HBox(children=(FloatProgress(value=0.0, description='Downloading', max=625.0, style=ProgressStyle(description_…"
            ]
          },
          "metadata": {
            "tags": []
          }
        },
        {
          "output_type": "stream",
          "text": [
            "\n"
          ],
          "name": "stdout"
        },
        {
          "output_type": "display_data",
          "data": {
            "application/vnd.jupyter.widget-view+json": {
              "model_id": "ad5407b124c84355ae7244eaa5dd73fb",
              "version_minor": 0,
              "version_major": 2
            },
            "text/plain": [
              "HBox(children=(FloatProgress(value=0.0, description='Downloading', max=672271273.0, style=ProgressStyle(descri…"
            ]
          },
          "metadata": {
            "tags": []
          }
        },
        {
          "output_type": "stream",
          "text": [
            "\n",
            "Start training...\n",
            "\n",
            " Epoch  |  Batch  |  Train Loss  |  Val Loss  |  Val Acc  |  Elapsed \n",
            "----------------------------------------------------------------------\n",
            "   1    |   20    |   0.281066   |     -      |     -     |   20.06  \n",
            "   1    |   40    |   0.130867   |     -      |     -     |   19.11  \n",
            "   1    |   60    |   0.166099   |     -      |     -     |   19.15  \n",
            "   1    |   80    |   0.151632   |     -      |     -     |   19.12  \n",
            "   1    |   100   |   0.095748   |     -      |     -     |   19.11  \n",
            "   1    |   120   |   0.112633   |     -      |     -     |   19.11  \n",
            "   1    |   140   |   0.094010   |     -      |     -     |   19.11  \n",
            "   1    |   160   |   0.093943   |     -      |     -     |   19.08  \n",
            "   1    |   180   |   0.069475   |     -      |     -     |   19.07  \n",
            "   1    |   193   |   0.080961   |     -      |     -     |   11.87  \n",
            "----------------------------------------------------------------------\n",
            "   1    |    -    |   0.130119   |  0.013618  |   99.80   |  189.77  \n",
            "----------------------------------------------------------------------\n",
            "\n",
            "\n",
            " Epoch  |  Batch  |  Train Loss  |  Val Loss  |  Val Acc  |  Elapsed \n",
            "----------------------------------------------------------------------\n",
            "   2    |   20    |   0.078010   |     -      |     -     |   20.03  \n",
            "   2    |   40    |   0.050070   |     -      |     -     |   19.06  \n",
            "   2    |   60    |   0.047840   |     -      |     -     |   19.07  \n",
            "   2    |   80    |   0.089141   |     -      |     -     |   19.09  \n",
            "   2    |   100   |   0.045045   |     -      |     -     |   19.14  \n",
            "   2    |   120   |   0.069471   |     -      |     -     |   19.12  \n",
            "   2    |   140   |   0.036413   |     -      |     -     |   19.08  \n",
            "   2    |   160   |   0.041913   |     -      |     -     |   19.07  \n",
            "   2    |   180   |   0.043059   |     -      |     -     |   19.11  \n",
            "   2    |   193   |   0.040244   |     -      |     -     |   11.89  \n",
            "----------------------------------------------------------------------\n",
            "   2    |    -    |   0.054745   |  0.005623  |  100.00   |  189.64  \n",
            "----------------------------------------------------------------------\n",
            "\n",
            "\n",
            "Training complete!\n"
          ],
          "name": "stdout"
        }
      ]
    },
    {
      "cell_type": "code",
      "metadata": {
        "id": "EgRii7CVbc4O"
      },
      "source": [
        "import torch.nn.functional as F\r\n",
        "\r\n",
        "def bert_predict(model, test_dataloader):\r\n",
        "    model.eval()\r\n",
        "\r\n",
        "    all_logits = []\r\n",
        "    for batch in test_dataloader:\r\n",
        "        # Load batch to GPU\r\n",
        "        b_input_ids, b_attn_mask = tuple(t.to(device) for t in batch)[:2]\r\n",
        "\r\n",
        "        # Compute logits\r\n",
        "        with torch.no_grad():\r\n",
        "            logits = model(b_input_ids, b_attn_mask)\r\n",
        "        all_logits.append(logits)\r\n",
        "    \r\n",
        "    # Concatenate logits from each batch\r\n",
        "    all_logits = torch.cat(all_logits, dim=0)\r\n",
        "\r\n",
        "    # Apply softmax to calculate probabilities\r\n",
        "    probs = F.softmax(all_logits, dim=1).cpu().numpy()\r\n",
        "\r\n",
        "    return probs"
      ],
      "execution_count": 60,
      "outputs": []
    },
    {
      "cell_type": "code",
      "metadata": {
        "id": "lJuifmc5jUIG"
      },
      "source": [
        "from sklearn.metrics import accuracy_score, roc_curve, auc\r\n",
        "def evaluate_roc(probs, y_true):\r\n",
        "    preds = probs[:, 1]\r\n",
        "    fpr, tpr, threshold = roc_curve(y_true, preds)\r\n",
        "    roc_auc = auc(fpr, tpr)\r\n",
        "    print(f'AUC: {roc_auc:.4f}')\r\n",
        "       \r\n",
        "    # Get accuracy over the test set\r\n",
        "    y_pred = np.where(preds >= 0.5, 1, 0)\r\n",
        "    accuracy = accuracy_score(y_true, y_pred)\r\n",
        "    print(f'Accuracy: {accuracy*100:.2f}%')\r\n",
        "    \r\n",
        "    # Plot ROC AUC\r\n",
        "    plt.title('Receiver Operating Characteristic')\r\n",
        "    plt.plot(fpr, tpr, 'b', label = 'AUC = %0.2f' % roc_auc)\r\n",
        "    plt.legend(loc = 'lower right')\r\n",
        "    plt.plot([0, 1], [0, 1],'r--')\r\n",
        "    plt.xlim([0, 1])\r\n",
        "    plt.ylim([0, 1])\r\n",
        "    plt.ylabel('True Positive Rate')\r\n",
        "    plt.xlabel('False Positive Rate')\r\n",
        "    plt.show()"
      ],
      "execution_count": 61,
      "outputs": []
    },
    {
      "cell_type": "code",
      "metadata": {
        "id": "zxABXQLMca18"
      },
      "source": [
        "probs = bert_predict(bert_classifier, val_dataloader)"
      ],
      "execution_count": 62,
      "outputs": []
    },
    {
      "cell_type": "code",
      "metadata": {
        "colab": {
          "base_uri": "https://localhost:8080/",
          "height": 329
        },
        "id": "QqpoJ_r4jY7S",
        "outputId": "601809fa-745b-4ed0-de2d-66a28a12e319"
      },
      "source": [
        "evaluate_roc(probs, y_val)"
      ],
      "execution_count": 63,
      "outputs": [
        {
          "output_type": "stream",
          "text": [
            "AUC: 1.0000\n",
            "Accuracy: 100.00%\n"
          ],
          "name": "stdout"
        },
        {
          "output_type": "display_data",
          "data": {
            "image/png": "[encoded data removed]",
            "text/plain": [
              "<Figure size 432x288 with 1 Axes>"
            ]
          },
          "metadata": {
            "tags": [],
            "needs_background": "light"
          }
        }
      ]
    },
    {
      "cell_type": "code",
      "metadata": {
        "id": "PPWWdIHk_9Ic"
      },
      "source": [
        "from sklearn.metrics import f1_score"
      ],
      "execution_count": 64,
      "outputs": []
    },
    {
      "cell_type": "code",
      "metadata": {
        "id": "R5koqyzY49C6",
        "colab": {
          "base_uri": "https://localhost:8080/"
        },
        "outputId": "00eabf3f-62e1-40ba-9994-f918a4d5b30e"
      },
      "source": [
        "from sklearn.metrics import classification_report,confusion_matrix\r\n",
        "preds = probs[:, 1]\r\n",
        "y_pred = np.where(preds >= 0.5, 1, 0)\r\n",
        "print(classification_report(y_val, y_pred))"
      ],
      "execution_count": 65,
      "outputs": [
        {
          "output_type": "stream",
          "text": [
            "              precision    recall  f1-score   support\n",
            "\n",
            "           0       1.00      1.00      1.00       379\n",
            "           1       1.00      1.00      1.00       126\n",
            "\n",
            "    accuracy                           1.00       505\n",
            "   macro avg       1.00      1.00      1.00       505\n",
            "weighted avg       1.00      1.00      1.00       505\n",
            "\n"
          ],
          "name": "stdout"
        }
      ]
    },
    {
      "cell_type": "code",
      "metadata": {
        "colab": {
          "base_uri": "https://localhost:8080/"
        },
        "id": "gXvA2rakAEH3",
        "outputId": "c7916c8c-8f88-4ae5-b123-810b4b2b9525"
      },
      "source": [
        "print(f1_score(y_val,y_pred))"
      ],
      "execution_count": 66,
      "outputs": [
        {
          "output_type": "stream",
          "text": [
            "1.0\n"
          ],
          "name": "stdout"
        }
      ]
    },
    {
      "cell_type": "code",
      "metadata": {
        "colab": {
          "base_uri": "https://localhost:8080/"
        },
        "id": "KFRWqrXDfriw",
        "outputId": "00fe3d73-baa9-41f0-c2ad-deb8bb1b5f3c"
      },
      "source": [
        "print(confusion_matrix(y_val,y_pred))"
      ],
      "execution_count": 67,
      "outputs": [
        {
          "output_type": "stream",
          "text": [
            "[[379   0]\n",
            " [  0 126]]\n"
          ],
          "name": "stdout"
        }
      ]
    },
    {
      "cell_type": "code",
      "metadata": {
        "id": "rc9IfmcPfE0k"
      },
      "source": [
        "vnewtweet.loc[:,'predicted_value'] = y_pred"
      ],
      "execution_count": 68,
      "outputs": []
    },
    {
      "cell_type": "code",
      "metadata": {
        "id": "7b3AxnQMgZ5d"
      },
      "source": [
        "wrongPred = vnewtweet[vnewtweet['Mobile_Tech_Flag'] != vnewtweet['predicted_value']]"
      ],
      "execution_count": 69,
      "outputs": []
    },
    {
      "cell_type": "code",
      "metadata": {
        "colab": {
          "base_uri": "https://localhost:8080/",
          "height": 47
        },
        "id": "Otlv2ETv-XSr",
        "outputId": "99346eb3-43c8-4d2f-9ac9-21c3e877db6f"
      },
      "source": [
        "wrongPred"
      ],
      "execution_count": 70,
      "outputs": [
        {
          "output_type": "execute_result",
          "data": {
            "text/html": [
              "<div>\n",
              "<style scoped>\n",
              "    .dataframe tbody tr th:only-of-type {\n",
              "        vertical-align: middle;\n",
              "    }\n",
              "\n",
              "    .dataframe tbody tr th {\n",
              "        vertical-align: top;\n",
              "    }\n",
              "\n",
              "    .dataframe thead th {\n",
              "        text-align: right;\n",
              "    }\n",
              "</style>\n",
              "<table border=\"1\" class=\"dataframe\">\n",
              "  <thead>\n",
              "    <tr style=\"text-align: right;\">\n",
              "      <th></th>\n",
              "      <th>Text_ID</th>\n",
              "      <th>Text</th>\n",
              "      <th>Mobile_Tech_Flag</th>\n",
              "      <th>predicted_value</th>\n",
              "    </tr>\n",
              "  </thead>\n",
              "  <tbody>\n",
              "  </tbody>\n",
              "</table>\n",
              "</div>"
            ],
            "text/plain": [
              "Empty DataFrame\n",
              "Columns: [Text_ID, Text, Mobile_Tech_Flag, predicted_value]\n",
              "Index: []"
            ]
          },
          "metadata": {
            "tags": []
          },
          "execution_count": 70
        }
      ]
    },
    {
      "cell_type": "code",
      "metadata": {
        "id": "pejjHm93gkAM"
      },
      "source": [
        "for i in range(len(wrongPred)):\r\n",
        "  print(f'Text number {i} :',wrongPred.iloc[i,1])"
      ],
      "execution_count": 71,
      "outputs": []
    },
    {
      "cell_type": "code",
      "metadata": {
        "id": "9szjTE4ChGSp"
      },
      "source": [
        ""
      ],
      "execution_count": null,
      "outputs": []
    }
  ]
}