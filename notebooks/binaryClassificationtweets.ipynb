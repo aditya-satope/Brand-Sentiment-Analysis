{
  "nbformat": 4,
  "nbformat_minor": 0,
  "metadata": {
    "colab": {
      "name": "binaryClassificationtweets.ipynb",
      "provenance": []
    },
    "kernelspec": {
      "name": "python3",
      "display_name": "Python 3"
    }
  },
  "cells": [
    {
      "cell_type": "code",
      "metadata": {
        "colab": {
          "base_uri": "https://localhost:8080/"
        },
        "id": "s7YGbCYMU_Nn",
        "outputId": "27cc7a04-ae0f-4c6b-b6da-9d04c0bcf0a4"
      },
      "source": [
        "from google.colab import drive\r\n",
        "drive.mount('/content/gdrive')"
      ],
      "execution_count": 59,
      "outputs": [
        {
          "output_type": "stream",
          "text": [
            "Drive already mounted at /content/gdrive; to attempt to forcibly remount, call drive.mount(\"/content/gdrive\", force_remount=True).\n"
          ],
          "name": "stdout"
        }
      ]
    },
    {
      "cell_type": "code",
      "metadata": {
        "id": "XjRTqhHQVqPr"
      },
      "source": [
        "### Config\r\n",
        "tweetPath = '/content/gdrive/MyDrive/interIIT/dev_data_tweet.xlsx'\r\n",
        "articlePath ='/content/gdrive/MyDrive/interIIT/dev_data_article.xlsx' "
      ],
      "execution_count": 60,
      "outputs": []
    },
    {
      "cell_type": "code",
      "metadata": {
        "id": "akfXQD30WFvC"
      },
      "source": [
        "import numpy as np\r\n",
        "import pandas as pd\r\n",
        "import matplotlib.pyplot as plt\r\n",
        "import seaborn as sns\r\n",
        "from plotly.offline import iplot"
      ],
      "execution_count": 61,
      "outputs": []
    },
    {
      "cell_type": "code",
      "metadata": {
        "colab": {
          "base_uri": "https://localhost:8080/",
          "height": 284
        },
        "id": "hTkgMXHsWk_4",
        "outputId": "5ffcfc23-82ad-4aaa-b89a-956baefa0cb8"
      },
      "source": [
        "tweets = pd.read_excel(tweetPath)\r\n",
        "tweets.describe()"
      ],
      "execution_count": 62,
      "outputs": [
        {
          "output_type": "execute_result",
          "data": {
            "text/html": [
              "<div>\n",
              "<style scoped>\n",
              "    .dataframe tbody tr th:only-of-type {\n",
              "        vertical-align: middle;\n",
              "    }\n",
              "\n",
              "    .dataframe tbody tr th {\n",
              "        vertical-align: top;\n",
              "    }\n",
              "\n",
              "    .dataframe thead th {\n",
              "        text-align: right;\n",
              "    }\n",
              "</style>\n",
              "<table border=\"1\" class=\"dataframe\">\n",
              "  <thead>\n",
              "    <tr style=\"text-align: right;\">\n",
              "      <th></th>\n",
              "      <th>Mobile_Tech_Tag</th>\n",
              "    </tr>\n",
              "  </thead>\n",
              "  <tbody>\n",
              "    <tr>\n",
              "      <th>count</th>\n",
              "      <td>4000.000000</td>\n",
              "    </tr>\n",
              "    <tr>\n",
              "      <th>mean</th>\n",
              "      <td>0.250000</td>\n",
              "    </tr>\n",
              "    <tr>\n",
              "      <th>std</th>\n",
              "      <td>0.433067</td>\n",
              "    </tr>\n",
              "    <tr>\n",
              "      <th>min</th>\n",
              "      <td>0.000000</td>\n",
              "    </tr>\n",
              "    <tr>\n",
              "      <th>25%</th>\n",
              "      <td>0.000000</td>\n",
              "    </tr>\n",
              "    <tr>\n",
              "      <th>50%</th>\n",
              "      <td>0.000000</td>\n",
              "    </tr>\n",
              "    <tr>\n",
              "      <th>75%</th>\n",
              "      <td>0.250000</td>\n",
              "    </tr>\n",
              "    <tr>\n",
              "      <th>max</th>\n",
              "      <td>1.000000</td>\n",
              "    </tr>\n",
              "  </tbody>\n",
              "</table>\n",
              "</div>"
            ],
            "text/plain": [
              "       Mobile_Tech_Tag\n",
              "count      4000.000000\n",
              "mean          0.250000\n",
              "std           0.433067\n",
              "min           0.000000\n",
              "25%           0.000000\n",
              "50%           0.000000\n",
              "75%           0.250000\n",
              "max           1.000000"
            ]
          },
          "metadata": {
            "tags": []
          },
          "execution_count": 62
        }
      ]
    },
    {
      "cell_type": "code",
      "metadata": {
        "colab": {
          "base_uri": "https://localhost:8080/",
          "height": 279
        },
        "id": "Htfq3fyDXGN_",
        "outputId": "4e5ca600-cc84-454e-ab9c-0b07699309f1"
      },
      "source": [
        "plt.style.use('dark_background')\r\n",
        "sns.countplot(x='Mobile_Tech_Tag',data=tweets)\r\n",
        "plt.xlabel('Diff Value')\r\n",
        "plt.ylabel('Counts')\r\n",
        "plt.show()"
      ],
      "execution_count": 63,
      "outputs": [
        {
          "output_type": "display_data",
          "data": {
            "image/png": "[encoded data removed]",
            "text/plain": [
              "<Figure size 432x288 with 1 Axes>"
            ]
          },
          "metadata": {
            "tags": []
          }
        }
      ]
    },
    {
      "cell_type": "code",
      "metadata": {
        "colab": {
          "base_uri": "https://localhost:8080/"
        },
        "id": "wxtLJQKqZ6jH",
        "outputId": "751eeb60-0dab-442e-c1ab-2cbdd3451acc"
      },
      "source": [
        "tweets['Mobile_Tech_Tag'].value_counts()"
      ],
      "execution_count": 64,
      "outputs": [
        {
          "output_type": "execute_result",
          "data": {
            "text/plain": [
              "0    3000\n",
              "1    1000\n",
              "Name: Mobile_Tech_Tag, dtype: int64"
            ]
          },
          "metadata": {
            "tags": []
          },
          "execution_count": 64
        }
      ]
    },
    {
      "cell_type": "markdown",
      "metadata": {
        "id": "8Kb82LnFdEk-"
      },
      "source": [
        "### Example Tweets\r\n"
      ]
    },
    {
      "cell_type": "code",
      "metadata": {
        "colab": {
          "base_uri": "https://localhost:8080/"
        },
        "id": "40ktf673XhsT",
        "outputId": "0a09b602-3b95-4552-b2ad-8a8367b72710"
      },
      "source": [
        "hveMobile = tweets[tweets['Mobile_Tech_Tag'] == 1]\r\n",
        "for i in range(10):\r\n",
        "  print(hveMobile.iloc[i,1])"
      ],
      "execution_count": 65,
      "outputs": [
        {
          "output_type": "stream",
          "text": [
            "#Samsung is now making another addition into it's A series, and the word is out that it's upcoming variant Galaxy A72 4G has awesome battery and charger with brilliant specs . . . For more tech updates Follow 👉 @MobileNerve . . . #smartphone #mobile #mobilephone #mobilephoto https://t.co/b8UO2Z6mC4\n",
            "QT @AwamiWeb: Want my hands on #GalaxyS21 🥺 ; The Samsung #GalaxyS21 Ultra 5G is the most premium Smartphone yet, with a strong focus on cameras. https://t.co/TxP2YscKMZ\n",
            "QT @AwamiWeb: This is a next level camera 🤩 #GalaxyS21 ; The Samsung #GalaxyS21 Ultra 5G is the most premium Smartphone yet, with a strong focus on cameras. https://t.co/TxP2YscKMZ\n",
            "Trick to get Google Home Mini at 499 Only Without Timesprime Coupon. 1. First Of All Just Open Google Assistant In your Android Smartphone. 2. Google Assistant Will Open & Now Speak “Ok Google, Play Google Home Mini Game“ 3. Google Will Show You Game Page Like Below With… https://t.co/I85qEBA3bK\n",
            "QT @MadhavSheth1: We are the pioneers of 64MP Smartphone Camera technology in India #realmeX7Pro #RealmeX2Pro @realmemobiles @MadhavSheth1 ; We are the pioneers of ____ Smartphone Camera technology in India. Part 2/3 of giveaway, RT & reply using #realmeX7Pro. Answer all correctly to win one. #XperienceTheFuture https://t.co/DVE2Hg47Qv\n",
            "QT @MadhavSheth1: We are the pioneers of 64MP Smartphone Camera technology in India. #realmeX7Pro ; We are the pioneers of ____ Smartphone Camera technology in India. Part 2/3 of giveaway, RT & reply using #realmeX7Pro. Answer all correctly to win one. #XperienceTheFuture https://t.co/DVE2Hg47Qv\n",
            "QT @AwamiWeb: The bestest in the smartphone industry. Heavy scenes #GalaxyS21 ; The Samsung #GalaxyS21 Ultra 5G is the most premium Smartphone yet, with a strong focus on cameras. https://t.co/TxP2YscKMZ\n",
            "The Samsung #GalaxyS21 Ultra 5G is the most premium Smartphone yet, with a strong focus on cameras. https://t.co/TxP2YscKMZ\n",
            "Itel A47 Budget Smartphone With Dual Cameras Launched in India https://t.co/4yTwvOYJOy\n",
            "Get Up to 20% off Realme X50 5G - Smartphone 128GB, 6GB RAM, Dual Sim, Ic Only £239 https://t.co/N2DrxRpSMP https://t.co/LFyjMFhAJ4\n"
          ],
          "name": "stdout"
        }
      ]
    },
    {
      "cell_type": "code",
      "metadata": {
        "colab": {
          "base_uri": "https://localhost:8080/",
          "height": 402
        },
        "id": "qH5KNhuddU_U",
        "outputId": "af9cfa95-0f2b-4ac9-d63c-c9c7365e6f98"
      },
      "source": [
        "hveMobile"
      ],
      "execution_count": 66,
      "outputs": [
        {
          "output_type": "execute_result",
          "data": {
            "text/html": [
              "<div>\n",
              "<style scoped>\n",
              "    .dataframe tbody tr th:only-of-type {\n",
              "        vertical-align: middle;\n",
              "    }\n",
              "\n",
              "    .dataframe tbody tr th {\n",
              "        vertical-align: top;\n",
              "    }\n",
              "\n",
              "    .dataframe thead th {\n",
              "        text-align: right;\n",
              "    }\n",
              "</style>\n",
              "<table border=\"1\" class=\"dataframe\">\n",
              "  <thead>\n",
              "    <tr style=\"text-align: right;\">\n",
              "      <th></th>\n",
              "      <th>Tweet_ID</th>\n",
              "      <th>Tweet</th>\n",
              "      <th>Mobile_Tech_Tag</th>\n",
              "    </tr>\n",
              "  </thead>\n",
              "  <tbody>\n",
              "    <tr>\n",
              "      <th>3000</th>\n",
              "      <td>tweet_3001</td>\n",
              "      <td>#Samsung is now making another addition into i...</td>\n",
              "      <td>1</td>\n",
              "    </tr>\n",
              "    <tr>\n",
              "      <th>3001</th>\n",
              "      <td>tweet_3002</td>\n",
              "      <td>QT @AwamiWeb: Want my hands on #GalaxyS21 🥺 ; ...</td>\n",
              "      <td>1</td>\n",
              "    </tr>\n",
              "    <tr>\n",
              "      <th>3002</th>\n",
              "      <td>tweet_3003</td>\n",
              "      <td>QT @AwamiWeb: This is a next level camera 🤩 #G...</td>\n",
              "      <td>1</td>\n",
              "    </tr>\n",
              "    <tr>\n",
              "      <th>3003</th>\n",
              "      <td>tweet_3004</td>\n",
              "      <td>Trick to get Google Home Mini at 499 Only With...</td>\n",
              "      <td>1</td>\n",
              "    </tr>\n",
              "    <tr>\n",
              "      <th>3004</th>\n",
              "      <td>tweet_3005</td>\n",
              "      <td>QT @MadhavSheth1: We are the pioneers of 64MP ...</td>\n",
              "      <td>1</td>\n",
              "    </tr>\n",
              "    <tr>\n",
              "      <th>...</th>\n",
              "      <td>...</td>\n",
              "      <td>...</td>\n",
              "      <td>...</td>\n",
              "    </tr>\n",
              "    <tr>\n",
              "      <th>3995</th>\n",
              "      <td>tweet_3996</td>\n",
              "      <td>RT @ZeeNews: चीनी मोबाइल कंपनी रियलमी ने अपना ...</td>\n",
              "      <td>1</td>\n",
              "    </tr>\n",
              "    <tr>\n",
              "      <th>3996</th>\n",
              "      <td>tweet_3997</td>\n",
              "      <td>RT @ZeeNews: चीनी मोबाइल कंपनी रियलमी ने अपना ...</td>\n",
              "      <td>1</td>\n",
              "    </tr>\n",
              "    <tr>\n",
              "      <th>3997</th>\n",
              "      <td>tweet_3998</td>\n",
              "      <td>चीनी मोबाइल कंपनी रियलमी ने अपना Realme V15 5G...</td>\n",
              "      <td>1</td>\n",
              "    </tr>\n",
              "    <tr>\n",
              "      <th>3998</th>\n",
              "      <td>tweet_3999</td>\n",
              "      <td>QT @AnjaliSingh_IN: Aapne phone hi galat choos...</td>\n",
              "      <td>1</td>\n",
              "    </tr>\n",
              "    <tr>\n",
              "      <th>3999</th>\n",
              "      <td>tweet_4000</td>\n",
              "      <td>QT @ManojSaru: पर bhaib5g इंडिया में कब आयेगा।...</td>\n",
              "      <td>1</td>\n",
              "    </tr>\n",
              "  </tbody>\n",
              "</table>\n",
              "<p>1000 rows × 3 columns</p>\n",
              "</div>"
            ],
            "text/plain": [
              "        Tweet_ID  ... Mobile_Tech_Tag\n",
              "3000  tweet_3001  ...               1\n",
              "3001  tweet_3002  ...               1\n",
              "3002  tweet_3003  ...               1\n",
              "3003  tweet_3004  ...               1\n",
              "3004  tweet_3005  ...               1\n",
              "...          ...  ...             ...\n",
              "3995  tweet_3996  ...               1\n",
              "3996  tweet_3997  ...               1\n",
              "3997  tweet_3998  ...               1\n",
              "3998  tweet_3999  ...               1\n",
              "3999  tweet_4000  ...               1\n",
              "\n",
              "[1000 rows x 3 columns]"
            ]
          },
          "metadata": {
            "tags": []
          },
          "execution_count": 66
        }
      ]
    },
    {
      "cell_type": "markdown",
      "metadata": {
        "id": "iqzCx8E8dJUW"
      },
      "source": [
        "### Hindi Tweets"
      ]
    },
    {
      "cell_type": "code",
      "metadata": {
        "colab": {
          "base_uri": "https://localhost:8080/"
        },
        "id": "M7JASndbdLys",
        "outputId": "faeee1f8-b5c3-4db5-e97a-caf91223bca5"
      },
      "source": [
        "for i in range(30):\r\n",
        "  print(hveMobile.iloc[i + 969,1])"
      ],
      "execution_count": 67,
      "outputs": [
        {
          "output_type": "stream",
          "text": [
            "#Samsung कंपनी जल्द लॉन्च करने वाली है अपना नया मोबाइल फोन GalaxyA52 5G @SamsungMobile #smartphone https://t.co/6ebGSUOrc7\n",
            "साल 2021 में ये 5G Smartphone मचा रहे हैं धूम, जानें कीमत और फीचर्स https://t.co/lt4jUzcVDJ\n",
            "भारत में लॉन्च : Vivo Y51A ट्रिपल रियर कैमरा, स्नैपड्रैगन 662 SoC जाने कीमत, स्पेसिफिकेशन #smartphone #vivo #NewsUpdate https://t.co/DaHnxtF3rU\n",
            "Why #OnePlus smartphone have low quality Camera वन प्लस फ़ोन का कैमरा बेक... https://t.co/cxkjS4ViSP via @YouTube\n",
            "@XiaomiIndia @amazonIN 15k MP camera laga kr kahanj khatam kro na. Yeh kya dheere dheere increase kiye jaa rhe ho. Ya alag se ek dslr free kr do smartphone k saath. Wese smartphone to choda nhi hai, bus cameras launch hue jaa rhe hai\n",
            "Oppo Reno 5 Pro 5G को 18 जनवरी 2021 को दोपहर 12:30 बजे लॉन्च किया जाएगा #oppo#smartphone #opporeno5pro5g#launching18thjan2021 https://t.co/pRJpuQZRXL\n",
            "@TechnicalGuruji Guruji Budget 5G smartphones kab aayenge ab bas aap se milna hai Love from Delhi #BoloGuruji\n",
            "@MadhavSheth1 Please, Don't use of 2-2 MP camera in Realme smartphone. बस हमारे लिए तो यही नई टेक्नोलॉजी होगी\n",
            "Qualcomm Snapdragon 480 SoC set to bring 5G support to affordable smartphones : Snapdragon 480 5G देश में लॉन्च होंगे सस्ते 5G स्मार्टफोन, 3 कैमरा और इन बड़े फीचर्स से लैस https://t.co/DAcqguwaBP\n",
            "RT @TV9Bharatvarsh: ये हैं 5,000 रुपये के बजट में मिलने वाले बेस्ट 4G स्मार्टफोन, यहां देखें पूरी लिस्ट #SmartPhone | #TechNews | #Budget https://t.co/JQPW74Lt5r\n",
            "@Micromax__India Lava smartphone company ne bhi 5g smartphone banane wali he , App ko bhi 5g techonologi par kaam karana chahiye\n",
            "RT @TV9Bharatvarsh: ये हैं 5,000 रुपये के बजट में मिलने वाले बेस्ट 4G स्मार्टफोन, यहां देखें पूरी लिस्ट #SmartPhone | #TechNews | #Budget https://t.co/JQPW74Lt5r\n",
            "best smartphone under 31000: Realme X50 Pro 5G को 10 हज़ार रुपये सस्ते में खरीदने का आज आखिरी मौका https://t.co/tFukYJWpMJ\n",
            "ये हैं 5,000 रुपये के बजट में मिलने वाले बेस्ट 4G स्मार्टफोन, यहां देखें पूरी लिस्ट #SmartPhone | #TechNews | #Budget https://t.co/JQPW74Lt5r\n",
            "QT @MahiHerambha: सही कहा।एक कमरे में चार लोग बैठे होते हैं पर कोई किसी से बात नहीं करता। सब अपने अपने फोन पर है नाश हो इस स्मार्टफोन का ; Smartphones has already replaced camera,calendars, notebooks, alarm clocks etc in our life, Don't let them replace You in ur family :) #MahiHerambha\n",
            "QT @AmreliaRuhez: Assalamualaikum Warahmatullahi Wabarakatuhu Ruhez bhai, Mera Sawaal ye hai kya micromax lava 5G Smartphones launch karegene with acchi features ke saath me aur kam price 5-15k??? Mera Dursa sawaal ye hai ke BSNL 4G launch kare jaldi me india me?? Aap ke bade kasie hai ; #Askruhez Lagao aur sunday Q & A ke liye jo chahe sawaal kariye ✌️\n",
            "Realme V15 5G : लम्बे इंतजार के बाद लांच हुआ 5G स्मार्टफोन, कीमत जानकर हो जाएंगे हैरान… #RealmeV15 l #5G l #Smartphones l https://t.co/H3YLgk2St6\n",
            "RT @MedhajNewsApp: 5G स्मार्टफोन्स Gadgets होंगे और भी सस्ते @nubiasmartphone @Smartphones @BB_Soluciones @smartphone_thai @SmartphonePe @jssec_org @GSmartphone5 #smartphone #5Gsfor5G #medhajnews https://t.co/fmGlUVMdaJ\n",
            "UPCOMING SMARTPHONES 2021 2021 में Indian मार्केट में बहुत सारे नए smartphones launch होने जा रहे हैं जो की latest Qualcomm Snapdragon 8888 processor के साथ आएंगे।  इन smartphones को अच्छी battery backup life के साथ market में उतारा जाएगा जोकि https://t.co/6A6iCmel4c https://t.co/aenps2l2De\n",
            "QT @ZeeNews: Iwkw ; चीनी मोबाइल कंपनी रियलमी ने अपना Realme V15 5G स्मार्टफोन लॉन्च कर दिया है #smartphone https://t.co/Y2hxc5fSCO\n",
            "RT @ZeeNews: चीनी मोबाइल कंपनी रियलमी ने अपना Realme V15 5G स्मार्टफोन लॉन्च कर दिया है #smartphone https://t.co/Y2hxc5fSCO\n",
            "RT @ZeeNews: चीनी मोबाइल कंपनी रियलमी ने अपना Realme V15 5G स्मार्टफोन लॉन्च कर दिया है #smartphone https://t.co/Y2hxc5fSCO\n",
            "#Realme ने 5G सेगमेंट में एक धांसू फोन #RealmeV15 लॉन्च किया है। यह फोन MediaTek Dimensity 800U SoC प्रोसेसर, 50W फास्ट चार्जिंग और 64MP प्राइमरी रियर कैमरा सेंसर के साथ लॉन्च किया गया है। जिसकी कीमत 17 हजार रुपये है। #TechNews #Tech4All #Tech #5G #Smartphones https://t.co/iwCRlBmXFh\n",
            "भारत में लॉन्च हुआ Xiaomi Mi 10i, यह है 2021 का सबसे सस्ता 5G फोन https://t.co/blQ2PRi6HDकारोबार/भारत-में-लॉन्च-हुआ-xiaomi-mi-10i-यह-है-2021/ #Xiaomi #5G #smartphone #Buisness https://t.co/2BejYCMF4T\n",
            "RT @ZeeNews: चीनी मोबाइल कंपनी रियलमी ने अपना Realme V15 5G स्मार्टफोन लॉन्च कर दिया है #smartphone https://t.co/Y2hxc5fSCO\n",
            "RT @ZeeNews: चीनी मोबाइल कंपनी रियलमी ने अपना Realme V15 5G स्मार्टफोन लॉन्च कर दिया है #smartphone https://t.co/Y2hxc5fSCO\n",
            "RT @ZeeNews: चीनी मोबाइल कंपनी रियलमी ने अपना Realme V15 5G स्मार्टफोन लॉन्च कर दिया है #smartphone https://t.co/Y2hxc5fSCO\n",
            "RT @ZeeNews: चीनी मोबाइल कंपनी रियलमी ने अपना Realme V15 5G स्मार्टफोन लॉन्च कर दिया है #smartphone https://t.co/Y2hxc5fSCO\n",
            "चीनी मोबाइल कंपनी रियलमी ने अपना Realme V15 5G स्मार्टफोन लॉन्च कर दिया है #smartphone https://t.co/Y2hxc5fSCO\n",
            "QT @AnjaliSingh_IN: Aapne phone hi galat choose KR liya hai..sorry to say, Wo phone 30k layak hai hi nhi.. Sirf aur sirf processor k Karan hang ho RHA hai.Filhal to aap setting me Jake auto app update ko off KR dijiye. Uske bad aane wale 10 tareek ko ek new smartphone Le lijiye..beware of Samsung ; यार कोई बताएगा मेरा फोन हैंग क्यों हो रहा है, सैमसंग गैलक्सी A71 है 8जीबी रैम 128जीबी मेमोरी बस ट्विटर में ही दिक्कत आ रही है रुक जाता है बार बार...!\n"
          ],
          "name": "stdout"
        }
      ]
    },
    {
      "cell_type": "markdown",
      "metadata": {
        "id": "1TuznQRwu6rs"
      },
      "source": [
        "### Hindi texts to English"
      ]
    },
    {
      "cell_type": "code",
      "metadata": {
        "id": "DQ5czPlMvEgt"
      },
      "source": [
        "----------\r\n",
        "----------"
      ],
      "execution_count": null,
      "outputs": []
    },
    {
      "cell_type": "markdown",
      "metadata": {
        "id": "Rvk7w-dXu0Hz"
      },
      "source": [
        "## Text Preprocessing"
      ]
    },
    {
      "cell_type": "code",
      "metadata": {
        "id": "SJjA-48iJbNw"
      },
      "source": [
        "word = ['QT','RT']"
      ],
      "execution_count": 68,
      "outputs": []
    },
    {
      "cell_type": "code",
      "metadata": {
        "colab": {
          "base_uri": "https://localhost:8080/"
        },
        "id": "Q9IyVuflYPjV",
        "outputId": "f8039348-33f4-4265-bd6f-6aab65d5333e"
      },
      "source": [
        "import re\r\n",
        "import string\r\n",
        "def preprocessingText(text):\r\n",
        "  text = re.sub(r'http\\S+', '',text)\r\n",
        "  text = re.sub(r'\\s([@][\\w_-]+)', '', text).strip()\r\n",
        "  text = ''.join([i for i in text if i not in string.punctuation])\r\n",
        "  text = ' '.join([i for i in text.split() if i not in word]).strip()\r\n",
        "  return text\r\n",
        "X = hveMobile.iloc[2,1]\r\n",
        "print('Original text :', X)\r\n",
        "print('Processed Word :', preprocessingText(X))"
      ],
      "execution_count": 69,
      "outputs": [
        {
          "output_type": "stream",
          "text": [
            "Original text : QT @AwamiWeb: This is a next level camera 🤩 #GalaxyS21 ; The Samsung #GalaxyS21 Ultra 5G is the most premium Smartphone yet, with a strong focus on cameras. https://t.co/TxP2YscKMZ\n",
            "Processed Word : This is a next level camera 🤩 GalaxyS21 The Samsung GalaxyS21 Ultra 5G is the most premium Smartphone yet with a strong focus on cameras\n"
          ],
          "name": "stdout"
        }
      ]
    },
    {
      "cell_type": "code",
      "metadata": {
        "id": "eFp1WCDce3ST"
      },
      "source": [
        "### Word Distribution\r\n",
        "tweets['Tweet'] = tweets['Tweet'].apply(lambda x : preprocessingText(x))"
      ],
      "execution_count": 70,
      "outputs": []
    },
    {
      "cell_type": "code",
      "metadata": {
        "colab": {
          "base_uri": "https://localhost:8080/",
          "height": 195
        },
        "id": "MT5xdUFwL-8E",
        "outputId": "3fad7748-151a-419b-d1ca-96b1f040671d"
      },
      "source": [
        "tweets.head()"
      ],
      "execution_count": 71,
      "outputs": [
        {
          "output_type": "execute_result",
          "data": {
            "text/html": [
              "<div>\n",
              "<style scoped>\n",
              "    .dataframe tbody tr th:only-of-type {\n",
              "        vertical-align: middle;\n",
              "    }\n",
              "\n",
              "    .dataframe tbody tr th {\n",
              "        vertical-align: top;\n",
              "    }\n",
              "\n",
              "    .dataframe thead th {\n",
              "        text-align: right;\n",
              "    }\n",
              "</style>\n",
              "<table border=\"1\" class=\"dataframe\">\n",
              "  <thead>\n",
              "    <tr style=\"text-align: right;\">\n",
              "      <th></th>\n",
              "      <th>Tweet_ID</th>\n",
              "      <th>Tweet</th>\n",
              "      <th>Mobile_Tech_Tag</th>\n",
              "    </tr>\n",
              "  </thead>\n",
              "  <tbody>\n",
              "    <tr>\n",
              "      <th>0</th>\n",
              "      <td>tweet_0001</td>\n",
              "      <td>Youll 💜 my PitchWars book if you like 🦋 hateto...</td>\n",
              "      <td>0</td>\n",
              "    </tr>\n",
              "    <tr>\n",
              "      <th>1</th>\n",
              "      <td>tweet_0002</td>\n",
              "      <td>🚨 Breaking WBA have reached a verbal agreement...</td>\n",
              "      <td>0</td>\n",
              "    </tr>\n",
              "    <tr>\n",
              "      <th>2</th>\n",
              "      <td>tweet_0003</td>\n",
              "      <td>really says a lot about society that we are ha...</td>\n",
              "      <td>0</td>\n",
              "    </tr>\n",
              "    <tr>\n",
              "      <th>3</th>\n",
              "      <td>tweet_0004</td>\n",
              "      <td>HPV vaccines increased serious nervous system ...</td>\n",
              "      <td>0</td>\n",
              "    </tr>\n",
              "    <tr>\n",
              "      <th>4</th>\n",
              "      <td>tweet_0005</td>\n",
              "      <td>Ramaphosa says if you are positive you must se...</td>\n",
              "      <td>0</td>\n",
              "    </tr>\n",
              "  </tbody>\n",
              "</table>\n",
              "</div>"
            ],
            "text/plain": [
              "     Tweet_ID  ... Mobile_Tech_Tag\n",
              "0  tweet_0001  ...               0\n",
              "1  tweet_0002  ...               0\n",
              "2  tweet_0003  ...               0\n",
              "3  tweet_0004  ...               0\n",
              "4  tweet_0005  ...               0\n",
              "\n",
              "[5 rows x 3 columns]"
            ]
          },
          "metadata": {
            "tags": []
          },
          "execution_count": 71
        }
      ]
    },
    {
      "cell_type": "code",
      "metadata": {
        "id": "InpbnKyNMIJo"
      },
      "source": [
        "tweets['num_of_word'] = tweets['Tweet'].apply(lambda x : len(str(x).split()))"
      ],
      "execution_count": 72,
      "outputs": []
    },
    {
      "cell_type": "code",
      "metadata": {
        "colab": {
          "base_uri": "https://localhost:8080/",
          "height": 369
        },
        "id": "hZcTkTdVNJcy",
        "outputId": "e81ac54a-650a-4d7d-bf33-62f2ae44c508"
      },
      "source": [
        "sns.displot(data=tweets,x='num_of_word')\r\n",
        "plt.show()"
      ],
      "execution_count": 73,
      "outputs": [
        {
          "output_type": "display_data",
          "data": {
            "image/png": "[encoded data removed]",
            "text/plain": [
              "<Figure size 360x360 with 1 Axes>"
            ]
          },
          "metadata": {
            "tags": []
          }
        }
      ]
    },
    {
      "cell_type": "code",
      "metadata": {
        "colab": {
          "base_uri": "https://localhost:8080/",
          "height": 405
        },
        "id": "qS7XUa7iNWh3",
        "outputId": "14c100e9-c596-485b-a8fa-5de09e20f35c"
      },
      "source": [
        "plt.figure(figsize=(12,6))\r\n",
        "p1=sns.kdeplot(tweets['num_of_word']).set_title('Distribution of Number Of words')"
      ],
      "execution_count": 74,
      "outputs": [
        {
          "output_type": "display_data",
          "data": {
            "image/png": "[encoded data removed]",
            "text/plain": [
              "<Figure size 864x432 with 1 Axes>"
            ]
          },
          "metadata": {
            "tags": []
          }
        }
      ]
    },
    {
      "cell_type": "code",
      "metadata": {
        "colab": {
          "base_uri": "https://localhost:8080/"
        },
        "id": "_7DMJ8MhSCA8",
        "outputId": "3f1990f2-1700-4edf-e86e-ef0c47e5afc4"
      },
      "source": [
        "import nltk\r\n",
        "from nltk.corpus import stopwords\r\n",
        "nltk.download('stopwords')"
      ],
      "execution_count": 55,
      "outputs": [
        {
          "output_type": "stream",
          "text": [
            "[nltk_data] Downloading package stopwords to /root/nltk_data...\n",
            "[nltk_data]   Unzipping corpora/stopwords.zip.\n"
          ],
          "name": "stdout"
        },
        {
          "output_type": "execute_result",
          "data": {
            "text/plain": [
              "True"
            ]
          },
          "metadata": {
            "tags": []
          },
          "execution_count": 55
        }
      ]
    },
    {
      "cell_type": "code",
      "metadata": {
        "id": "VWzYqc6oRrbW"
      },
      "source": [
        "def remove_stopword(x):\r\n",
        "    return [y for y in x.split() if y not in stopwords.words('english')]\r\n",
        "tweets['Tweet'] = tweets['Tweet'].apply(lambda x:remove_stopword(x))"
      ],
      "execution_count": 75,
      "outputs": []
    },
    {
      "cell_type": "code",
      "metadata": {
        "colab": {
          "base_uri": "https://localhost:8080/",
          "height": 438
        },
        "id": "I0KAfmyfOADx",
        "outputId": "34f9d14e-7c0c-4766-da3c-b4d8f0a5ef63"
      },
      "source": [
        "from collections import Counter\r\n",
        "tweets['temp_list'] = tweets['Tweet'].apply(lambda x:str(x).split())\r\n",
        "top = Counter([item for sublist in tweets['temp_list'] for item in sublist])\r\n",
        "temp = pd.DataFrame(top.most_common(20))\r\n",
        "temp.columns = ['Common_words','count']\r\n",
        "temp.style.background_gradient(cmap='Blues')"
      ],
      "execution_count": 76,
      "outputs": [
        {
          "output_type": "execute_result",
          "data": {
            "text/html": [
              "<style  type=\"text/css\" >\n",
              "#T_5d2d0dc0_7f59_11eb_b153_0242ac1c0002row0_col1{\n",
              "            background-color:  #08306b;\n",
              "            color:  #f1f1f1;\n",
              "        }#T_5d2d0dc0_7f59_11eb_b153_0242ac1c0002row1_col1{\n",
              "            background-color:  #084c95;\n",
              "            color:  #f1f1f1;\n",
              "        }#T_5d2d0dc0_7f59_11eb_b153_0242ac1c0002row2_col1{\n",
              "            background-color:  #1c6ab0;\n",
              "            color:  #f1f1f1;\n",
              "        }#T_5d2d0dc0_7f59_11eb_b153_0242ac1c0002row3_col1{\n",
              "            background-color:  #3484bf;\n",
              "            color:  #000000;\n",
              "        }#T_5d2d0dc0_7f59_11eb_b153_0242ac1c0002row4_col1{\n",
              "            background-color:  #69add5;\n",
              "            color:  #000000;\n",
              "        }#T_5d2d0dc0_7f59_11eb_b153_0242ac1c0002row5_col1{\n",
              "            background-color:  #aed1e7;\n",
              "            color:  #000000;\n",
              "        }#T_5d2d0dc0_7f59_11eb_b153_0242ac1c0002row6_col1{\n",
              "            background-color:  #b8d5ea;\n",
              "            color:  #000000;\n",
              "        }#T_5d2d0dc0_7f59_11eb_b153_0242ac1c0002row7_col1{\n",
              "            background-color:  #c3daee;\n",
              "            color:  #000000;\n",
              "        }#T_5d2d0dc0_7f59_11eb_b153_0242ac1c0002row8_col1{\n",
              "            background-color:  #cbdef1;\n",
              "            color:  #000000;\n",
              "        }#T_5d2d0dc0_7f59_11eb_b153_0242ac1c0002row9_col1{\n",
              "            background-color:  #d3e3f3;\n",
              "            color:  #000000;\n",
              "        }#T_5d2d0dc0_7f59_11eb_b153_0242ac1c0002row10_col1{\n",
              "            background-color:  #dce9f6;\n",
              "            color:  #000000;\n",
              "        }#T_5d2d0dc0_7f59_11eb_b153_0242ac1c0002row11_col1{\n",
              "            background-color:  #e7f0fa;\n",
              "            color:  #000000;\n",
              "        }#T_5d2d0dc0_7f59_11eb_b153_0242ac1c0002row12_col1,#T_5d2d0dc0_7f59_11eb_b153_0242ac1c0002row13_col1{\n",
              "            background-color:  #eaf2fb;\n",
              "            color:  #000000;\n",
              "        }#T_5d2d0dc0_7f59_11eb_b153_0242ac1c0002row14_col1{\n",
              "            background-color:  #ebf3fb;\n",
              "            color:  #000000;\n",
              "        }#T_5d2d0dc0_7f59_11eb_b153_0242ac1c0002row15_col1{\n",
              "            background-color:  #f3f8fe;\n",
              "            color:  #000000;\n",
              "        }#T_5d2d0dc0_7f59_11eb_b153_0242ac1c0002row16_col1{\n",
              "            background-color:  #f5f9fe;\n",
              "            color:  #000000;\n",
              "        }#T_5d2d0dc0_7f59_11eb_b153_0242ac1c0002row17_col1{\n",
              "            background-color:  #f6faff;\n",
              "            color:  #000000;\n",
              "        }#T_5d2d0dc0_7f59_11eb_b153_0242ac1c0002row18_col1,#T_5d2d0dc0_7f59_11eb_b153_0242ac1c0002row19_col1{\n",
              "            background-color:  #f7fbff;\n",
              "            color:  #000000;\n",
              "        }</style><table id=\"T_5d2d0dc0_7f59_11eb_b153_0242ac1c0002\" ><thead>    <tr>        <th class=\"blank level0\" ></th>        <th class=\"col_heading level0 col0\" >Common_words</th>        <th class=\"col_heading level0 col1\" >count</th>    </tr></thead><tbody>\n",
              "                <tr>\n",
              "                        <th id=\"T_5d2d0dc0_7f59_11eb_b153_0242ac1c0002level0_row0\" class=\"row_heading level0 row0\" >0</th>\n",
              "                        <td id=\"T_5d2d0dc0_7f59_11eb_b153_0242ac1c0002row0_col0\" class=\"data row0 col0\" >'loan',</td>\n",
              "                        <td id=\"T_5d2d0dc0_7f59_11eb_b153_0242ac1c0002row0_col1\" class=\"data row0 col1\" >1213</td>\n",
              "            </tr>\n",
              "            <tr>\n",
              "                        <th id=\"T_5d2d0dc0_7f59_11eb_b153_0242ac1c0002level0_row1\" class=\"row_heading level0 row1\" >1</th>\n",
              "                        <td id=\"T_5d2d0dc0_7f59_11eb_b153_0242ac1c0002row1_col0\" class=\"data row1 col0\" >'के',</td>\n",
              "                        <td id=\"T_5d2d0dc0_7f59_11eb_b153_0242ac1c0002row1_col1\" class=\"data row1 col1\" >1119</td>\n",
              "            </tr>\n",
              "            <tr>\n",
              "                        <th id=\"T_5d2d0dc0_7f59_11eb_b153_0242ac1c0002level0_row2\" class=\"row_heading level0 row2\" >2</th>\n",
              "                        <td id=\"T_5d2d0dc0_7f59_11eb_b153_0242ac1c0002row2_col0\" class=\"data row2 col0\" >'पर',</td>\n",
              "                        <td id=\"T_5d2d0dc0_7f59_11eb_b153_0242ac1c0002row2_col1\" class=\"data row2 col1\" >1017</td>\n",
              "            </tr>\n",
              "            <tr>\n",
              "                        <th id=\"T_5d2d0dc0_7f59_11eb_b153_0242ac1c0002level0_row3\" class=\"row_heading level0 row3\" >3</th>\n",
              "                        <td id=\"T_5d2d0dc0_7f59_11eb_b153_0242ac1c0002row3_col0\" class=\"data row3 col0\" >'risk',</td>\n",
              "                        <td id=\"T_5d2d0dc0_7f59_11eb_b153_0242ac1c0002row3_col1\" class=\"data row3 col1\" >931</td>\n",
              "            </tr>\n",
              "            <tr>\n",
              "                        <th id=\"T_5d2d0dc0_7f59_11eb_b153_0242ac1c0002level0_row4\" class=\"row_heading level0 row4\" >4</th>\n",
              "                        <td id=\"T_5d2d0dc0_7f59_11eb_b153_0242ac1c0002row4_col0\" class=\"data row4 col0\" >'hai',</td>\n",
              "                        <td id=\"T_5d2d0dc0_7f59_11eb_b153_0242ac1c0002row4_col1\" class=\"data row4 col1\" >780</td>\n",
              "            </tr>\n",
              "            <tr>\n",
              "                        <th id=\"T_5d2d0dc0_7f59_11eb_b153_0242ac1c0002level0_row5\" class=\"row_heading level0 row5\" >5</th>\n",
              "                        <td id=\"T_5d2d0dc0_7f59_11eb_b153_0242ac1c0002row5_col0\" class=\"data row5 col0\" >'है',</td>\n",
              "                        <td id=\"T_5d2d0dc0_7f59_11eb_b153_0242ac1c0002row5_col1\" class=\"data row5 col1\" >626</td>\n",
              "            </tr>\n",
              "            <tr>\n",
              "                        <th id=\"T_5d2d0dc0_7f59_11eb_b153_0242ac1c0002level0_row6\" class=\"row_heading level0 row6\" >6</th>\n",
              "                        <td id=\"T_5d2d0dc0_7f59_11eb_b153_0242ac1c0002row6_col0\" class=\"data row6 col0\" >'की',</td>\n",
              "                        <td id=\"T_5d2d0dc0_7f59_11eb_b153_0242ac1c0002row6_col1\" class=\"data row6 col1\" >599</td>\n",
              "            </tr>\n",
              "            <tr>\n",
              "                        <th id=\"T_5d2d0dc0_7f59_11eb_b153_0242ac1c0002level0_row7\" class=\"row_heading level0 row7\" >7</th>\n",
              "                        <td id=\"T_5d2d0dc0_7f59_11eb_b153_0242ac1c0002row7_col0\" class=\"data row7 col0\" >'से',</td>\n",
              "                        <td id=\"T_5d2d0dc0_7f59_11eb_b153_0242ac1c0002row7_col1\" class=\"data row7 col1\" >568</td>\n",
              "            </tr>\n",
              "            <tr>\n",
              "                        <th id=\"T_5d2d0dc0_7f59_11eb_b153_0242ac1c0002level0_row8\" class=\"row_heading level0 row8\" >8</th>\n",
              "                        <td id=\"T_5d2d0dc0_7f59_11eb_b153_0242ac1c0002row8_col0\" class=\"data row8 col0\" >'लिए',</td>\n",
              "                        <td id=\"T_5d2d0dc0_7f59_11eb_b153_0242ac1c0002row8_col1\" class=\"data row8 col1\" >536</td>\n",
              "            </tr>\n",
              "            <tr>\n",
              "                        <th id=\"T_5d2d0dc0_7f59_11eb_b153_0242ac1c0002level0_row9\" class=\"row_heading level0 row9\" >9</th>\n",
              "                        <td id=\"T_5d2d0dc0_7f59_11eb_b153_0242ac1c0002row9_col0\" class=\"data row9 col0\" >'का',</td>\n",
              "                        <td id=\"T_5d2d0dc0_7f59_11eb_b153_0242ac1c0002row9_col1\" class=\"data row9 col1\" >501</td>\n",
              "            </tr>\n",
              "            <tr>\n",
              "                        <th id=\"T_5d2d0dc0_7f59_11eb_b153_0242ac1c0002level0_row10\" class=\"row_heading level0 row10\" >10</th>\n",
              "                        <td id=\"T_5d2d0dc0_7f59_11eb_b153_0242ac1c0002row10_col0\" class=\"data row10 col0\" >'को',</td>\n",
              "                        <td id=\"T_5d2d0dc0_7f59_11eb_b153_0242ac1c0002row10_col1\" class=\"data row10 col1\" >462</td>\n",
              "            </tr>\n",
              "            <tr>\n",
              "                        <th id=\"T_5d2d0dc0_7f59_11eb_b153_0242ac1c0002level0_row11\" class=\"row_heading level0 row11\" >11</th>\n",
              "                        <td id=\"T_5d2d0dc0_7f59_11eb_b153_0242ac1c0002row11_col0\" class=\"data row11 col0\" >'5G',</td>\n",
              "                        <td id=\"T_5d2d0dc0_7f59_11eb_b153_0242ac1c0002row11_col1\" class=\"data row11 col1\" >413</td>\n",
              "            </tr>\n",
              "            <tr>\n",
              "                        <th id=\"T_5d2d0dc0_7f59_11eb_b153_0242ac1c0002level0_row12\" class=\"row_heading level0 row12\" >12</th>\n",
              "                        <td id=\"T_5d2d0dc0_7f59_11eb_b153_0242ac1c0002row12_col0\" class=\"data row12 col0\" >'और',</td>\n",
              "                        <td id=\"T_5d2d0dc0_7f59_11eb_b153_0242ac1c0002row12_col1\" class=\"data row12 col1\" >401</td>\n",
              "            </tr>\n",
              "            <tr>\n",
              "                        <th id=\"T_5d2d0dc0_7f59_11eb_b153_0242ac1c0002level0_row13\" class=\"row_heading level0 row13\" >13</th>\n",
              "                        <td id=\"T_5d2d0dc0_7f59_11eb_b153_0242ac1c0002row13_col0\" class=\"data row13 col0\" >'में',</td>\n",
              "                        <td id=\"T_5d2d0dc0_7f59_11eb_b153_0242ac1c0002row13_col1\" class=\"data row13 col1\" >399</td>\n",
              "            </tr>\n",
              "            <tr>\n",
              "                        <th id=\"T_5d2d0dc0_7f59_11eb_b153_0242ac1c0002level0_row14\" class=\"row_heading level0 row14\" >14</th>\n",
              "                        <td id=\"T_5d2d0dc0_7f59_11eb_b153_0242ac1c0002row14_col0\" class=\"data row14 col0\" >'1800',</td>\n",
              "                        <td id=\"T_5d2d0dc0_7f59_11eb_b153_0242ac1c0002row14_col1\" class=\"data row14 col1\" >394</td>\n",
              "            </tr>\n",
              "            <tr>\n",
              "                        <th id=\"T_5d2d0dc0_7f59_11eb_b153_0242ac1c0002level0_row15\" class=\"row_heading level0 row15\" >15</th>\n",
              "                        <td id=\"T_5d2d0dc0_7f59_11eb_b153_0242ac1c0002row15_col0\" class=\"data row15 col0\" >'अब',</td>\n",
              "                        <td id=\"T_5d2d0dc0_7f59_11eb_b153_0242ac1c0002row15_col1\" class=\"data row15 col1\" >360</td>\n",
              "            </tr>\n",
              "            <tr>\n",
              "                        <th id=\"T_5d2d0dc0_7f59_11eb_b153_0242ac1c0002level0_row16\" class=\"row_heading level0 row16\" >16</th>\n",
              "                        <td id=\"T_5d2d0dc0_7f59_11eb_b153_0242ac1c0002row16_col0\" class=\"data row16 col0\" >'would',</td>\n",
              "                        <td id=\"T_5d2d0dc0_7f59_11eb_b153_0242ac1c0002row16_col1\" class=\"data row16 col1\" >351</td>\n",
              "            </tr>\n",
              "            <tr>\n",
              "                        <th id=\"T_5d2d0dc0_7f59_11eb_b153_0242ac1c0002level0_row17\" class=\"row_heading level0 row17\" >17</th>\n",
              "                        <td id=\"T_5d2d0dc0_7f59_11eb_b153_0242ac1c0002row17_col0\" class=\"data row17 col0\" >'ही',</td>\n",
              "                        <td id=\"T_5d2d0dc0_7f59_11eb_b153_0242ac1c0002row17_col1\" class=\"data row17 col1\" >346</td>\n",
              "            </tr>\n",
              "            <tr>\n",
              "                        <th id=\"T_5d2d0dc0_7f59_11eb_b153_0242ac1c0002level0_row18\" class=\"row_heading level0 row18\" >18</th>\n",
              "                        <td id=\"T_5d2d0dc0_7f59_11eb_b153_0242ac1c0002row18_col0\" class=\"data row18 col0\" >'या',</td>\n",
              "                        <td id=\"T_5d2d0dc0_7f59_11eb_b153_0242ac1c0002row18_col1\" class=\"data row18 col1\" >342</td>\n",
              "            </tr>\n",
              "            <tr>\n",
              "                        <th id=\"T_5d2d0dc0_7f59_11eb_b153_0242ac1c0002level0_row19\" class=\"row_heading level0 row19\" >19</th>\n",
              "                        <td id=\"T_5d2d0dc0_7f59_11eb_b153_0242ac1c0002row19_col0\" class=\"data row19 col0\" >'ki',</td>\n",
              "                        <td id=\"T_5d2d0dc0_7f59_11eb_b153_0242ac1c0002row19_col1\" class=\"data row19 col1\" >340</td>\n",
              "            </tr>\n",
              "    </tbody></table>"
            ],
            "text/plain": [
              "<pandas.io.formats.style.Styler at 0x7f60234a7ed0>"
            ]
          },
          "metadata": {
            "tags": []
          },
          "execution_count": 76
        }
      ]
    },
    {
      "cell_type": "code",
      "metadata": {
        "id": "lwW8vSF3RPvv"
      },
      "source": [
        "tweets.drop('temp_list',axis=1,inplace=True)"
      ],
      "execution_count": 78,
      "outputs": []
    },
    {
      "cell_type": "code",
      "metadata": {
        "id": "Jde_b6oeTbRy"
      },
      "source": [
        ""
      ],
      "execution_count": null,
      "outputs": []
    }
  ]
}