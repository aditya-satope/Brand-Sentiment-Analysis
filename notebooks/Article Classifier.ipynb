{
 "cells": [
  {
   "cell_type": "code",
   "execution_count": 1,
   "metadata": {
    "executionInfo": {
     "elapsed": 2057,
     "status": "ok",
     "timestamp": 1615272585498,
     "user": {
      "displayName": "Shivam Singh",
      "photoUrl": "",
      "userId": "02395324421011568547"
     },
     "user_tz": -330
    },
    "id": "gR6LZaQyhJh2"
   },
   "outputs": [],
   "source": [
    "import numpy as np\n",
    "import pandas as pd\n",
    "import sklearn\n",
    "import time"
   ]
  },
  {
   "cell_type": "code",
   "execution_count": 36,
   "metadata": {
    "executionInfo": {
     "elapsed": 1129,
     "status": "ok",
     "timestamp": 1615272744718,
     "user": {
      "displayName": "Shivam Singh",
      "photoUrl": "",
      "userId": "02395324421011568547"
     },
     "user_tz": -330
    },
    "id": "5MkoGadsS3jc"
   },
   "outputs": [],
   "source": [
    "import pickle\n",
    "from matplotlib import pyplot as plt\n",
    "df = pd.read_pickle('C:/Users/SHIVAM/Downloads/tweet_train_cleaned.pkl')"
   ]
  },
  {
   "cell_type": "code",
   "execution_count": 37,
   "metadata": {
    "colab": {
     "base_uri": "https://localhost:8080/"
    },
    "executionInfo": {
     "elapsed": 2278,
     "status": "ok",
     "timestamp": 1615272759042,
     "user": {
      "displayName": "Shivam Singh",
      "photoUrl": "",
      "userId": "02395324421011568547"
     },
     "user_tz": -330
    },
    "id": "njhIsoZFTddc",
    "outputId": "b5dde931-1736-4426-f4b7-f4a7e1baec1a"
   },
   "outputs": [
    {
     "data": {
      "text/plain": [
       "TfidfVectorizer()"
      ]
     },
     "execution_count": 37,
     "metadata": {},
     "output_type": "execute_result"
    }
   ],
   "source": [
    "from sklearn.feature_extraction.text import TfidfVectorizer\n",
    "x = df['Tweet']\n",
    "y = df['Mobile_Tech_Tag']\n",
    "model = TfidfVectorizer()\n",
    "model.fit(x)"
   ]
  },
  {
   "cell_type": "code",
   "execution_count": 38,
   "metadata": {
    "executionInfo": {
     "elapsed": 1137,
     "status": "ok",
     "timestamp": 1615272763807,
     "user": {
      "displayName": "Shivam Singh",
      "photoUrl": "",
      "userId": "02395324421011568547"
     },
     "user_tz": -330
    },
    "id": "UzFLea_J0Mkw"
   },
   "outputs": [],
   "source": [
    "from sklearn.model_selection import train_test_split\n",
    "data_train_org,data_cv_org,y_train,y_cv = train_test_split(x,y,test_size = 0.1,random_state = 42)"
   ]
  },
  {
   "cell_type": "code",
   "execution_count": 39,
   "metadata": {
    "executionInfo": {
     "elapsed": 2048,
     "status": "ok",
     "timestamp": 1615272768503,
     "user": {
      "displayName": "Shivam Singh",
      "photoUrl": "",
      "userId": "02395324421011568547"
     },
     "user_tz": -330
    },
    "id": "AosG4qc9Yi2E"
   },
   "outputs": [],
   "source": [
    "data_train = model.transform(data_train_org)\n",
    "data_cv = model.transform(data_cv_org)"
   ]
  },
  {
   "cell_type": "code",
   "execution_count": 40,
   "metadata": {
    "colab": {
     "base_uri": "https://localhost:8080/"
    },
    "executionInfo": {
     "elapsed": 6088,
     "status": "ok",
     "timestamp": 1615272775961,
     "user": {
      "displayName": "Shivam Singh",
      "photoUrl": "",
      "userId": "02395324421011568547"
     },
     "user_tz": -330
    },
    "id": "wBXHYgdoXFs9",
    "outputId": "bd99fd8f-d873-4401-d99f-b5a2afef600b"
   },
   "outputs": [
    {
     "name": "stdout",
     "output_type": "stream",
     "text": [
      "Time taken:0.3550527095794678\n"
     ]
    }
   ],
   "source": [
    "t0 = time.time()\n",
    "from sklearn.ensemble import RandomForestClassifier\n",
    "rfclassifier = RandomForestClassifier(n_jobs = -1)\n",
    "rfclassifier.fit(data_train,y_train)\n",
    "tf = time.time()\n",
    "print(\"Time taken:\" + (str)(tf-t0))"
   ]
  },
  {
   "cell_type": "code",
   "execution_count": 41,
   "metadata": {
    "colab": {
     "base_uri": "https://localhost:8080/"
    },
    "executionInfo": {
     "elapsed": 877,
     "status": "ok",
     "timestamp": 1615272777137,
     "user": {
      "displayName": "Shivam Singh",
      "photoUrl": "",
      "userId": "02395324421011568547"
     },
     "user_tz": -330
    },
    "id": "-DYLpzAOahn0",
    "outputId": "55cbf637-caeb-4651-a4f3-dc54d0b00727"
   },
   "outputs": [
    {
     "name": "stdout",
     "output_type": "stream",
     "text": [
      "Weighted F1 Score:\n",
      "0.996781436000636\n",
      "Accuracy Score:\n",
      "0.9967741935483871\n"
     ]
    }
   ],
   "source": [
    "from sklearn.metrics import f1_score\n",
    "from sklearn.metrics import accuracy_score\n",
    "y_pred = rfclassifier.predict(data_cv)\n",
    "print(\"Weighted F1 Score:\")\n",
    "print(f1_score(y_pred,y_cv,average = 'weighted'))\n",
    "print(\"Accuracy Score:\")\n",
    "print(accuracy_score(y_pred,y_cv))"
   ]
  },
  {
   "cell_type": "code",
   "execution_count": 42,
   "metadata": {
    "colab": {
     "base_uri": "https://localhost:8080/"
    },
    "executionInfo": {
     "elapsed": 2991,
     "status": "ok",
     "timestamp": 1615272787984,
     "user": {
      "displayName": "Shivam Singh",
      "photoUrl": "",
      "userId": "02395324421011568547"
     },
     "user_tz": -330
    },
    "id": "tTLGwHMBlwuW",
    "outputId": "8f4d5d31-d516-4aef-fa0f-d5ed1524f1eb"
   },
   "outputs": [
    {
     "data": {
      "text/plain": [
       "GaussianNB()"
      ]
     },
     "execution_count": 42,
     "metadata": {},
     "output_type": "execute_result"
    }
   ],
   "source": [
    "from sklearn.naive_bayes import GaussianNB\n",
    "NBclassifier = GaussianNB()\n",
    "data_train_NB = data_train.toarray()\n",
    "data_cv_NB = data_cv.toarray()\n",
    "NBclassifier.fit(data_train_NB, y_train)"
   ]
  },
  {
   "cell_type": "code",
   "execution_count": 43,
   "metadata": {
    "colab": {
     "base_uri": "https://localhost:8080/"
    },
    "executionInfo": {
     "elapsed": 1242,
     "status": "ok",
     "timestamp": 1615272790202,
     "user": {
      "displayName": "Shivam Singh",
      "photoUrl": "",
      "userId": "02395324421011568547"
     },
     "user_tz": -330
    },
    "id": "58TDFnyZmmEf",
    "outputId": "47b2fe80-4a11-48af-a3f0-25742429ba1c"
   },
   "outputs": [
    {
     "name": "stdout",
     "output_type": "stream",
     "text": [
      "Weighted F1 Score:\n",
      "0.9774700520044511\n",
      "Accuracy Score:\n",
      "0.9774193548387097\n"
     ]
    }
   ],
   "source": [
    "y_pred = NBclassifier.predict(data_cv_NB)\n",
    "print(\"Weighted F1 Score:\")\n",
    "print(f1_score(y_pred,y_cv,average = 'weighted'))\n",
    "print(\"Accuracy Score:\")\n",
    "print(accuracy_score(y_pred,y_cv))"
   ]
  },
  {
   "cell_type": "code",
   "execution_count": 44,
   "metadata": {
    "colab": {
     "base_uri": "https://localhost:8080/"
    },
    "executionInfo": {
     "elapsed": 25994,
     "status": "ok",
     "timestamp": 1615272941613,
     "user": {
      "displayName": "Shivam Singh",
      "photoUrl": "",
      "userId": "02395324421011568547"
     },
     "user_tz": -330
    },
    "id": "eS1gAuK-vvgY",
    "outputId": "68cb87d1-7059-4f53-8775-047f3e396d89"
   },
   "outputs": [
    {
     "name": "stdout",
     "output_type": "stream",
     "text": [
      "Time taken:0.4657280445098877\n"
     ]
    }
   ],
   "source": [
    "t0 = time.time()\n",
    "from xgboost import XGBClassifier\n",
    "xgbc = XGBClassifier(max_depth = 10,n_estimators = 100,random_state = 42,objective='binary:hinge',n_jobs = -1)\n",
    "xgbc.fit(data_train,y_train)\n",
    "tf = time.time()\n",
    "print(\"Time taken:\" + (str)(tf-t0))"
   ]
  },
  {
   "cell_type": "code",
   "execution_count": 45,
   "metadata": {
    "colab": {
     "base_uri": "https://localhost:8080/"
    },
    "executionInfo": {
     "elapsed": 1118,
     "status": "ok",
     "timestamp": 1615272942744,
     "user": {
      "displayName": "Shivam Singh",
      "photoUrl": "",
      "userId": "02395324421011568547"
     },
     "user_tz": -330
    },
    "id": "KkhaK_e-wQ4d",
    "outputId": "d33471ba-3d91-421f-bde8-80223e392240"
   },
   "outputs": [
    {
     "name": "stdout",
     "output_type": "stream",
     "text": [
      "Weighted F1 Score:\n",
      "1.0\n",
      "Accuracy Score:\n",
      "1.0\n"
     ]
    }
   ],
   "source": [
    "y_pred = xgbc.predict(data_cv)\n",
    "print(\"Weighted F1 Score:\")\n",
    "print(f1_score(y_pred,y_cv,average = 'weighted'))\n",
    "print(\"Accuracy Score:\")\n",
    "print(accuracy_score(y_pred,y_cv))"
   ]
  },
  {
   "cell_type": "code",
   "execution_count": 46,
   "metadata": {},
   "outputs": [
    {
     "name": "stdout",
     "output_type": "stream",
     "text": [
      "task:         [classification]\n",
      "n_classes:    [2]\n",
      "metric:       [accuracy_score]\n",
      "variant:      [A]\n",
      "n_estimators: [3]\n",
      "\n",
      "estimator  0: [Regression: LogisticRegression]\n"
     ]
    },
    {
     "name": "stderr",
     "output_type": "stream",
     "text": [
      "C:\\Users\\SHIVAM\\Anaconda3\\lib\\site-packages\\sklearn\\model_selection\\_split.py:297: FutureWarning: Setting a random_state has no effect since shuffle is False. This will raise an error in 0.24. You should leave random_state to its default (None), or set shuffle=True.\n",
      "  FutureWarning\n"
     ]
    },
    {
     "name": "stdout",
     "output_type": "stream",
     "text": [
      "    fold  0:  [0.96947935]\n",
      "    fold  1:  [0.97127469]\n",
      "    fold  2:  [0.96588869]\n",
      "    fold  3:  [0.95870736]\n",
      "    fold  4:  [0.95691203]\n",
      "    ----\n",
      "    MEAN:     [0.96445242] + [0.00572258]\n",
      "\n",
      "estimator  1: [Naive Bayes: GaussianNB]\n",
      "    fold  0:  [0.98384201]\n",
      "    fold  1:  [0.98922801]\n",
      "    fold  2:  [0.97307002]\n",
      "    fold  3:  [0.96229803]\n",
      "    fold  4:  [0.96768402]\n",
      "    ----\n",
      "    MEAN:     [0.97522442] + [0.00998954]\n",
      "\n",
      "estimator  2: [Random Forest: RandomForestClassifier]\n",
      "    fold  0:  [0.98922801]\n",
      "    fold  1:  [0.99640934]\n",
      "    fold  2:  [0.99640934]\n",
      "    fold  3:  [0.99461400]\n",
      "    fold  4:  [0.99281867]\n",
      "    ----\n",
      "    MEAN:     [0.99389587] + [0.00268701]\n",
      "\n",
      "Train set was detected.\n",
      "Transforming...\n",
      "\n",
      "estimator  0: [Regression: LogisticRegression]\n",
      "    model from fold  0: done\n",
      "    model from fold  1: done\n",
      "    model from fold  2: done\n",
      "    model from fold  3: done\n",
      "    model from fold  4: done\n",
      "    ----\n",
      "    DONE\n",
      "\n",
      "estimator  1: [Naive Bayes: GaussianNB]\n",
      "    model from fold  0: done\n",
      "    model from fold  1: done\n",
      "    model from fold  2: done\n",
      "    model from fold  3: done\n",
      "    model from fold  4: done\n",
      "    ----\n",
      "    DONE\n",
      "\n",
      "estimator  2: [Random Forest: RandomForestClassifier]\n",
      "    model from fold  0: done\n",
      "    model from fold  1: done\n",
      "    model from fold  2: done\n",
      "    model from fold  3: done\n",
      "    model from fold  4: done\n",
      "    ----\n",
      "    DONE\n",
      "\n",
      "Transforming...\n",
      "\n",
      "estimator  0: [Regression: LogisticRegression]\n",
      "    model from fold  0: done\n",
      "    model from fold  1: done\n",
      "    model from fold  2: done\n",
      "    model from fold  3: done\n",
      "    model from fold  4: done\n",
      "    ----\n",
      "    DONE\n",
      "\n",
      "estimator  1: [Naive Bayes: GaussianNB]\n",
      "    model from fold  0: done\n",
      "    model from fold  1: done\n",
      "    model from fold  2: done\n",
      "    model from fold  3: done\n",
      "    model from fold  4: done\n",
      "    ----\n",
      "    DONE\n",
      "\n",
      "estimator  2: [Random Forest: RandomForestClassifier]\n",
      "    model from fold  0: done\n",
      "    model from fold  1: done\n",
      "    model from fold  2: done\n",
      "    model from fold  3: done\n",
      "    model from fold  4: done\n",
      "    ----\n",
      "    DONE\n",
      "\n",
      "Time taken:23.685845136642456\n"
     ]
    }
   ],
   "source": [
    "t0 = time.time()\n",
    "from vecstack import StackingTransformer\n",
    "from sklearn.ensemble import RandomForestClassifier\n",
    "from sklearn.tree import DecisionTreeClassifier\n",
    "from sklearn.svm import SVC\n",
    "from sklearn.naive_bayes import GaussianNB\n",
    "from sklearn.linear_model import LogisticRegression\n",
    "estimators = [('Regression',LogisticRegression()),('Naive Bayes',GaussianNB()),\n",
    "              ('Random Forest',RandomForestClassifier(n_estimators = 50,n_jobs = -1))] \n",
    "#('Support Vector',SVC())], #('Decision Tree',DecisionTreeClassifier())]\n",
    "stack = StackingTransformer(estimators, n_folds = 5, regression = False, random_state = 42, verbose=2)\n",
    "stack.fit(data_train_NB,y_train)\n",
    "\n",
    "s_train = stack.transform(data_train_NB)\n",
    "s_test = stack.transform(data_cv_NB)\n",
    "model = XGBClassifier(max_depth = 21,max_n_estimators=100,\n",
    "                         verbosity = 1,random_state = 42,objective = 'binary:hinge',n_jobs = -1)\n",
    "model.fit(s_train,y_train)\n",
    "tf = time.time()\n",
    "print(\"Time taken:\" + (str)(tf-t0))"
   ]
  },
  {
   "cell_type": "code",
   "execution_count": 47,
   "metadata": {},
   "outputs": [
    {
     "name": "stdout",
     "output_type": "stream",
     "text": [
      "0.9870967741935484\n",
      "0.974025974025974\n"
     ]
    }
   ],
   "source": [
    "y_pred = model.predict(s_test)\n",
    "print(accuracy_score(y_cv,y_pred))\n",
    "print(f1_score(y_cv,y_pred))"
   ]
  },
  {
   "cell_type": "code",
   "execution_count": null,
   "metadata": {
    "id": "rnDxDP8Urdh7"
   },
   "outputs": [],
   "source": [
    "from sklearn.model_selection import RepeatedStratifiedKFold\n",
    "from sklearn.model_selection import RandomizedSearchCV\n",
    "cv = RepeatedStratifiedKFold(n_splits=10, n_repeats=3, random_state=1)\n",
    "model = RandomForestClassifier()\n",
    "space = dict()\n",
    "space['n_estimators'] = [100,200,300,400]\n",
    "space['criterion'] = ['gini', 'entropy']\n",
    "#space['min_sample_split'] = ['2','4','6']\n",
    "#space['min_sample_leaf'] = ['1','2','3']\n",
    "search = RandomizedSearchCV(model, space, n_iter=20, scoring='accuracy', n_jobs=-1, cv=cv, random_state=1)\n",
    "result = search.fit(data_train, y_train)\n",
    "print('Best Score: %s' % result.best_score_)\n",
    "print('Best Hyperparameters: %s' % result.best_params_)"
   ]
  },
  {
   "cell_type": "code",
   "execution_count": null,
   "metadata": {
    "colab": {
     "base_uri": "https://localhost:8080/",
     "height": 354
    },
    "executionInfo": {
     "elapsed": 1180,
     "status": "error",
     "timestamp": 1615269856571,
     "user": {
      "displayName": "Shivam Singh",
      "photoUrl": "",
      "userId": "02395324421011568547"
     },
     "user_tz": -330
    },
    "id": "bSI_qFtYz59b",
    "outputId": "a356b63b-13ce-4ef9-d493-1cc03c2818fd",
    "scrolled": true
   },
   "outputs": [],
   "source": [
    "df = pd.DataFrame(data_cv_org)\n",
    "df.append(y_pred,'Predicted')\n",
    "df.append(y_cv,'Actual')\n",
    "wrong = df['Predicted'] != df['Actual']"
   ]
  }
 ],
 "metadata": {
  "colab": {
   "authorship_tag": "ABX9TyMuwMANBt0vAQqzDW3pYpvE",
   "name": "Article Classifier.ipynb",
   "provenance": []
  },
  "kernelspec": {
   "display_name": "Python 3",
   "language": "python",
   "name": "python3"
  },
  "language_info": {
   "codemirror_mode": {
    "name": "ipython",
    "version": 3
   },
   "file_extension": ".py",
   "mimetype": "text/x-python",
   "name": "python",
   "nbconvert_exporter": "python",
   "pygments_lexer": "ipython3",
   "version": "3.7.4"
  }
 },
 "nbformat": 4,
 "nbformat_minor": 1
}
